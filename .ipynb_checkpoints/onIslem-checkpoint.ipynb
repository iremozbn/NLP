{
 "cells": [
  {
   "cell_type": "markdown",
   "id": "6d82607c-eb88-476f-874e-a5573b5eb60b",
   "metadata": {},
   "source": [
    "# Ön İşlem"
   ]
  },
  {
   "cell_type": "markdown",
   "id": "9949f787-81b0-4669-a599-5c0de3136f1d",
   "metadata": {},
   "source": [
    "text=open(\"data/nlp.txt\",\"r\") #txt dosyası okuma\n",
    "nlp=text.read()"
   ]
  },
  {
   "cell_type": "code",
   "execution_count": 1,
   "id": "fd441e7b-3215-4a11-8538-355bb0e5d650",
   "metadata": {},
   "outputs": [],
   "source": [
    "import pandas as pd\n",
    "import re #regex ismindeki bir kütüphane \n",
    "import snowballstemmer #köke inme kütüphanesi"
   ]
  },
  {
   "cell_type": "code",
   "execution_count": 2,
   "id": "9328e465-d0f1-43d4-8287-99840b6eede4",
   "metadata": {},
   "outputs": [
    {
     "data": {
      "text/html": [
       "<div>\n",
       "<style scoped>\n",
       "    .dataframe tbody tr th:only-of-type {\n",
       "        vertical-align: middle;\n",
       "    }\n",
       "\n",
       "    .dataframe tbody tr th {\n",
       "        vertical-align: top;\n",
       "    }\n",
       "\n",
       "    .dataframe thead th {\n",
       "        text-align: right;\n",
       "    }\n",
       "</style>\n",
       "<table border=\"1\" class=\"dataframe\">\n",
       "  <thead>\n",
       "    <tr style=\"text-align: right;\">\n",
       "      <th></th>\n",
       "      <th>Text</th>\n",
       "    </tr>\n",
       "  </thead>\n",
       "  <tbody>\n",
       "    <tr>\n",
       "      <th>0</th>\n",
       "      <td>Yapay Zeka Nedir, Ne İşe Yarar?\\n\\nYapay zeka ...</td>\n",
       "    </tr>\n",
       "    <tr>\n",
       "      <th>1</th>\n",
       "      <td>🔎 Verilerinizi analiz edin: \\nChatGPT'yi kulla...</td>\n",
       "    </tr>\n",
       "    <tr>\n",
       "      <th>2</th>\n",
       "      <td>Öncelikle yapay zekanın ne olduğunu, #dijitala...</td>\n",
       "    </tr>\n",
       "    <tr>\n",
       "      <th>3</th>\n",
       "      <td>9. Baidu Research: Çin'in önde gelen arama mot...</td>\n",
       "    </tr>\n",
       "    <tr>\n",
       "      <th>4</th>\n",
       "      <td>4. Microsoft AI: Microsoft'un yapay zeka tekno...</td>\n",
       "    </tr>\n",
       "    <tr>\n",
       "      <th>...</th>\n",
       "      <td>...</td>\n",
       "    </tr>\n",
       "    <tr>\n",
       "      <th>853</th>\n",
       "      <td>doğal dil işleme alanında yüksek lisans-doktor...</td>\n",
       "    </tr>\n",
       "    <tr>\n",
       "      <th>854</th>\n",
       "      <td>dogal dil isleme şeyleri</td>\n",
       "    </tr>\n",
       "    <tr>\n",
       "      <th>855</th>\n",
       "      <td>Bir veri madenciliği ve doğal dil işleme uygul...</td>\n",
       "    </tr>\n",
       "    <tr>\n",
       "      <th>856</th>\n",
       "      <td>\"Doğal dil işleme\" ile ilgili deneyimi olan ya...</td>\n",
       "    </tr>\n",
       "    <tr>\n",
       "      <th>857</th>\n",
       "      <td>Haftaya öğrencilik hayatıma kaldığım yerden de...</td>\n",
       "    </tr>\n",
       "  </tbody>\n",
       "</table>\n",
       "<p>858 rows × 1 columns</p>\n",
       "</div>"
      ],
      "text/plain": [
       "                                                  Text\n",
       "0    Yapay Zeka Nedir, Ne İşe Yarar?\\n\\nYapay zeka ...\n",
       "1    🔎 Verilerinizi analiz edin: \\nChatGPT'yi kulla...\n",
       "2    Öncelikle yapay zekanın ne olduğunu, #dijitala...\n",
       "3    9. Baidu Research: Çin'in önde gelen arama mot...\n",
       "4    4. Microsoft AI: Microsoft'un yapay zeka tekno...\n",
       "..                                                 ...\n",
       "853  doğal dil işleme alanında yüksek lisans-doktor...\n",
       "854                           dogal dil isleme şeyleri\n",
       "855  Bir veri madenciliği ve doğal dil işleme uygul...\n",
       "856  \"Doğal dil işleme\" ile ilgili deneyimi olan ya...\n",
       "857  Haftaya öğrencilik hayatıma kaldığım yerden de...\n",
       "\n",
       "[858 rows x 1 columns]"
      ]
     },
     "execution_count": 2,
     "metadata": {},
     "output_type": "execute_result"
    }
   ],
   "source": [
    "df = pd.read_csv(r\"C:\\Users\\iremo\\OneDrive\\Desktop\\python\\GMKA_python\\NLP code\\nlp.csv\",index_col=0)\n",
    "df"
   ]
  },
  {
   "cell_type": "code",
   "execution_count": 3,
   "id": "0402cc9a-8454-4efd-aa2a-00803b77815d",
   "metadata": {},
   "outputs": [
    {
     "data": {
      "text/plain": [
       "'\"Yapay zeka dünyası hızla gelişiyor! Son zamanlarda, GPT-3, BERT ve benzeri doğal dil işleme modelleri ile daha da popüler hale geldi. Bu modeller, insanlar tarafından üretilen metinleri analiz ederek, dilin yapısını ve anlamını kavrayabiliyorlar.'"
      ]
     },
     "execution_count": 3,
     "metadata": {},
     "output_type": "execute_result"
    }
   ],
   "source": [
    "df.loc[100,\"Text\"] #100. satırdaki text ifadesi"
   ]
  },
  {
   "cell_type": "code",
   "execution_count": 4,
   "id": "fa035fca-806a-4ae8-b7ba-9a45bc38129b",
   "metadata": {},
   "outputs": [
    {
     "data": {
      "text/plain": [
       "'aras  irem '"
      ]
     },
     "execution_count": 4,
     "metadata": {},
     "output_type": "execute_result"
    }
   ],
   "source": [
    "#sayısal değerlerin kaldırılması\n",
    "def remove_numeric(value):\n",
    "    bfr= [item for item in value if not item.isdigit()]\n",
    "    bfr=\"\".join(bfr)\n",
    "    return bfr\n",
    "\n",
    "text=\"aras 123 irem 456\" \n",
    "remove_numeric(text)"
   ]
  },
  {
   "cell_type": "code",
   "execution_count": 5,
   "id": "a31adb9b-96bb-4d9e-acef-8d7ae7dfad47",
   "metadata": {},
   "outputs": [
    {
     "data": {
      "text/plain": [
       "'aras 123 irem 456  '"
      ]
     },
     "execution_count": 5,
     "metadata": {},
     "output_type": "execute_result"
    }
   ],
   "source": [
    "def remove_emoji(value):\n",
    "    bfr = re.compile(\"[\\U00010000-\\U0010ffff]\", flags=re.UNICODE)\n",
    "    bfr = bfr.sub(r'', value)\n",
    "    return bfr\n",
    "\n",
    "text=\"aras 123 irem 456  😰\" \n",
    "remove_emoji(text)"
   ]
  },
  {
   "cell_type": "code",
   "execution_count": 6,
   "id": "98d7d822-315b-4c67-b1d0-438dc54a13ea",
   "metadata": {},
   "outputs": [
    {
     "data": {
      "text/plain": [
       "'aras 123 irem 456😰'"
      ]
     },
     "execution_count": 6,
     "metadata": {},
     "output_type": "execute_result"
    }
   ],
   "source": [
    "#tek karakterli ifadeleri kaldırma\n",
    "def remove_sing_char(value):\n",
    "    return re.sub(r'(?:^| )\\w(?:$| )','',value)\n",
    "    \n",
    "text=\"aras 123 irem 456 a 😰\" \n",
    "remove_sing_char(text)"
   ]
  },
  {
   "cell_type": "code",
   "execution_count": 7,
   "id": "e1a81cb8-9c11-4773-8338-256184488a4a",
   "metadata": {},
   "outputs": [
    {
     "data": {
      "text/plain": [
       "'aras  irem'"
      ]
     },
     "execution_count": 7,
     "metadata": {},
     "output_type": "execute_result"
    }
   ],
   "source": [
    "#noktalama işaretlerini kaldırma\n",
    "def remove_noktalama(value):\n",
    "    return re.sub(r'[^\\w\\s]','',value)\n",
    "\n",
    "    \n",
    "text=\"aras ! irem.\" \n",
    "remove_noktalama(text)"
   ]
  },
  {
   "cell_type": "code",
   "execution_count": 8,
   "id": "c18d05b5-8657-44e6-bce4-aa146c41faf7",
   "metadata": {},
   "outputs": [
    {
     "data": {
      "text/plain": [
       "'aras ! irem  '"
      ]
     },
     "execution_count": 8,
     "metadata": {},
     "output_type": "execute_result"
    }
   ],
   "source": [
    "#linkleri kaldırma\n",
    "def remove_link(value):\n",
    "    return re.sub('((www\\.[^\\s]+)|(https?://[^\\s]+))','',value)\n",
    "text=\"aras ! irem https://chat.openai.com/c/4f8c15d2-b44f-4b10-a409-6e45d2e83e0e \" \n",
    "remove_link(text)"
   ]
  },
  {
   "cell_type": "code",
   "execution_count": 9,
   "id": "bdf7d20e-619f-45c2-8b01-2e0abda1db3d",
   "metadata": {},
   "outputs": [
    {
     "data": {
      "text/plain": [
       "'aras '"
      ]
     },
     "execution_count": 9,
     "metadata": {},
     "output_type": "execute_result"
    }
   ],
   "source": [
    "#hashtag kaldırma\n",
    "def remove_hashtag(value):\n",
    "    return re.sub(r'#\\S+', '', value)\n",
    "text=\"aras #irem\"\n",
    "remove_hashtag(text)"
   ]
  },
  {
   "cell_type": "code",
   "execution_count": 10,
   "id": "183d864f-bfa6-4cb4-a126-01e8f0eafcd4",
   "metadata": {},
   "outputs": [
    {
     "data": {
      "text/plain": [
       "'aras '"
      ]
     },
     "execution_count": 10,
     "metadata": {},
     "output_type": "execute_result"
    }
   ],
   "source": [
    "def remove_username(value):\n",
    "    return re.sub('@[^\\s]+','',value)\n",
    "text=\"aras @irem\"\n",
    "remove_username(text)"
   ]
  },
  {
   "cell_type": "code",
   "execution_count": 11,
   "id": "366cd2c7-9d6b-4d57-bc1c-7e2e297946ec",
   "metadata": {},
   "outputs": [
    {
     "data": {
      "text/plain": [
       "'bugu yorgu'"
      ]
     },
     "execution_count": 11,
     "metadata": {},
     "output_type": "execute_result"
    }
   ],
   "source": [
    "def stem_word(value):\n",
    "    stemmer=snowballstemmer.stemmer(\"turkish\")\n",
    "    value=value.lower()\n",
    "    value =stemmer.stemWords(value.split())\n",
    "    stopwords = [\n",
    "    'acaba', 'altı', 'altmış', 'ama', 'ancak', 'arada', 'aslında', 'ayrıca', 'az', 'bana',\n",
    "    'bazen', 'bazı', 'bazıları', 'belki', 'ben', 'beni', 'benim', 'beş', 'bile', 'bin', 'bir',\n",
    "    'birçok', 'biri', 'birkaç', 'birkez', 'birşey', 'birşeyi', 'biz', 'bize', 'bizden', 'bizi',\n",
    "    'bizim', 'böyle', 'böylece', 'bu', 'buna', 'bunda', 'bundan', 'bunu', 'bunun', 'burada',\n",
    "    'bütün', 'çok', 'da', 'daha', 'dahi', 'de', 'defa', 'diğer', 'diye', 'doksan', 'dokuz', 'dolayı',\n",
    "    'dört', 'elbette', 'en', 'fakat', 'falan', 'felan', 'filan', 'gene', 'gibi', 'hem', 'henüz',\n",
    "    'hep', 'hepsi', 'her', 'her biri', 'herkes', 'herkese', 'herkesi', 'hiç', 'hiç kimse', 'hiçbiri',\n",
    "    'iki', 'ile', 'ilgili', 'itibaren', 'itibariyle', 'kaç', 'kadar', 'kendi', 'kendilerine', 'kendini',\n",
    "    'kendisi', 'kendisine', 'kendisini', 'kez', 'ki', 'kim', 'kime', 'kimi', 'kimse', 'madem', 'mı',\n",
    "    'mi', 'mu', 'mü', 'nasıl', 'ne', 'neden', 'nedenle', 'nerde', 'nerede', 'nereden', 'nereye',\n",
    "    'nesi', 'neyse', 'niçin', 'niye', 'o', 'olan', 'olarak', 'oldu', 'olduğu', 'olduğunu', 'olduklarını',\n",
    "    'olmadı', 'olmadığı', 'olmak', 'olması', 'olmayan', 'olmaz', 'olsa', 'olsun', 'olup', 'olur', 'olursa',\n",
    "    'oluyor', 'on', 'ona', 'ondan', 'onlar', 'onlara', 'onlardan', 'onları', 'onların', 'onu', 'onun',\n",
    "    'orada', 'oysa', 'oysaki', 'öbürü', 'ön', 'önce', 'ötürü', 'öyle', 'pek', 'rağmen', 'sadece', 'sanki',\n",
    "    'şayet', 'siz', 'sizden', 'size', 'sizi','tabii', 'tamam', 'tamamen', 'tarafından', 'trilyon', 'tüm', \n",
    "    've', 'veya', 'ya', 'yani', 'yapacak', 'yapılan', 'yapılması', 'yapıyor', 'yapmak', 'yaptı', \n",
    "    'yaptığı', 'yaptığını', 'yaptıkları', 'yedi', 'yerine', 'yetmiş', 'yine', 'yoksa', 'zaten', 'zira']\n",
    "    value=[item for item in value if not item in stopwords]\n",
    "    value = ' '.join(value)\n",
    "    return value\n",
    "\n",
    "text = \"bugün çok yorgunum\"\n",
    "stem_word(text)"
   ]
  },
  {
   "cell_type": "code",
   "execution_count": 12,
   "id": "b7bc5229-5247-4e69-95bd-a09b7824da61",
   "metadata": {},
   "outputs": [],
   "source": [
    "def pre_processing(value):\n",
    "    return [remove_numeric(\n",
    "              remove_emoji(\n",
    "                remove_sing_char(\n",
    "                 remove_noktalama(\n",
    "                  remove_link(\n",
    "                  remove_hashtag(\n",
    "                   remove_username(\n",
    "                   stem_word(word)))))))) for word in value.split()]"
   ]
  },
  {
   "cell_type": "code",
   "execution_count": 14,
   "id": "3ef2692a-365c-4ac6-a50c-f24eec4964c6",
   "metadata": {},
   "outputs": [],
   "source": [
    "df[\"Text_2\"]=df[\"Text\"].apply(pre_processing) #fordan daha hızlı bir şekilde elemenalara ulaşır"
   ]
  },
  {
   "cell_type": "code",
   "execution_count": 15,
   "id": "62363d04-a7c8-4c36-b6de-ea56a41562cb",
   "metadata": {},
   "outputs": [
    {
     "data": {
      "text/html": [
       "<div>\n",
       "<style scoped>\n",
       "    .dataframe tbody tr th:only-of-type {\n",
       "        vertical-align: middle;\n",
       "    }\n",
       "\n",
       "    .dataframe tbody tr th {\n",
       "        vertical-align: top;\n",
       "    }\n",
       "\n",
       "    .dataframe thead th {\n",
       "        text-align: right;\n",
       "    }\n",
       "</style>\n",
       "<table border=\"1\" class=\"dataframe\">\n",
       "  <thead>\n",
       "    <tr style=\"text-align: right;\">\n",
       "      <th></th>\n",
       "      <th>Text</th>\n",
       "      <th>Text_2</th>\n",
       "    </tr>\n",
       "  </thead>\n",
       "  <tbody>\n",
       "    <tr>\n",
       "      <th>0</th>\n",
       "      <td>Yapay Zeka Nedir, Ne İşe Yarar?\\n\\nYapay zeka ...</td>\n",
       "      <td>[yapay, zeka, nedir, , işe, yarar, yapay, zeka...</td>\n",
       "    </tr>\n",
       "    <tr>\n",
       "      <th>1</th>\n",
       "      <td>🔎 Verilerinizi analiz edin: \\nChatGPT'yi kulla...</td>\n",
       "      <td>[, veri, analiz, edin, chatgptyi, kullanarak, ...</td>\n",
       "    </tr>\n",
       "    <tr>\n",
       "      <th>2</th>\n",
       "      <td>Öncelikle yapay zekanın ne olduğunu, #dijitala...</td>\n",
       "      <td>[öncelik, yapay, zeka, , olduğunu, , iç, , öne...</td>\n",
       "    </tr>\n",
       "    <tr>\n",
       "      <th>3</th>\n",
       "      <td>9. Baidu Research: Çin'in önde gelen arama mot...</td>\n",
       "      <td>[, baidu, research, çin, , gele, ara, motor, b...</td>\n",
       "    </tr>\n",
       "    <tr>\n",
       "      <th>4</th>\n",
       "      <td>4. Microsoft AI: Microsoft'un yapay zeka tekno...</td>\n",
       "      <td>[, microsoft, ai, microsoft, yapay, zeka, tekn...</td>\n",
       "    </tr>\n",
       "  </tbody>\n",
       "</table>\n",
       "</div>"
      ],
      "text/plain": [
       "                                                Text  \\\n",
       "0  Yapay Zeka Nedir, Ne İşe Yarar?\\n\\nYapay zeka ...   \n",
       "1  🔎 Verilerinizi analiz edin: \\nChatGPT'yi kulla...   \n",
       "2  Öncelikle yapay zekanın ne olduğunu, #dijitala...   \n",
       "3  9. Baidu Research: Çin'in önde gelen arama mot...   \n",
       "4  4. Microsoft AI: Microsoft'un yapay zeka tekno...   \n",
       "\n",
       "                                              Text_2  \n",
       "0  [yapay, zeka, nedir, , işe, yarar, yapay, zeka...  \n",
       "1  [, veri, analiz, edin, chatgptyi, kullanarak, ...  \n",
       "2  [öncelik, yapay, zeka, , olduğunu, , iç, , öne...  \n",
       "3  [, baidu, research, çin, , gele, ara, motor, b...  \n",
       "4  [, microsoft, ai, microsoft, yapay, zeka, tekn...  "
      ]
     },
     "execution_count": 15,
     "metadata": {},
     "output_type": "execute_result"
    }
   ],
   "source": [
    "df.head()"
   ]
  },
  {
   "cell_type": "code",
   "execution_count": 16,
   "id": "d084ec70-2844-436d-acf5-fed3ff0264b2",
   "metadata": {},
   "outputs": [
    {
     "data": {
      "text/plain": [
       "'Yapay Zeka Nedir, Ne İşe Yarar?\\n\\nYapay zeka (YZ) bilgisayarlar ve diğer cihazların, insan zekasına benzer şekilde düşünmesini, öğrenmesini, kararlar vermesini ve problem çözmesini sağlayan bir bilim dalıdır. Yapay zeka teknolojisi, doğal dil işleme, ses tanıma, görüntü işleme,… https://t.co/nDH7iGOdFe'"
      ]
     },
     "execution_count": 16,
     "metadata": {},
     "output_type": "execute_result"
    }
   ],
   "source": [
    "df.loc[0,\"Text\"]"
   ]
  },
  {
   "cell_type": "code",
   "execution_count": 17,
   "id": "8dfac459-d70c-4f1e-ac03-ed9eaa466e66",
   "metadata": {},
   "outputs": [
    {
     "data": {
      "text/plain": [
       "['yapay',\n",
       " 'zeka',\n",
       " 'nedir',\n",
       " '',\n",
       " 'işe',\n",
       " 'yarar',\n",
       " 'yapay',\n",
       " 'zeka',\n",
       " 'yz',\n",
       " 'bilgisayar',\n",
       " '',\n",
       " '',\n",
       " 'cihazların',\n",
       " 'in',\n",
       " 'zeka',\n",
       " 'benzer',\n",
       " 'şekil',\n",
       " 'düşünmesini',\n",
       " 'öğrenmesini',\n",
       " 'karar',\n",
       " 'verme',\n",
       " '',\n",
       " 'proble',\n",
       " 'çözme',\n",
       " 'sağlaya',\n",
       " '',\n",
       " 'bil',\n",
       " 'dalıdır',\n",
       " 'yapay',\n",
       " 'zeka',\n",
       " 'teknolojisi',\n",
       " 'doğal',\n",
       " 'dil',\n",
       " 'işleme',\n",
       " 'ses',\n",
       " 'tanıma',\n",
       " 'gör',\n",
       " 'işleme',\n",
       " '']"
      ]
     },
     "execution_count": 17,
     "metadata": {},
     "output_type": "execute_result"
    }
   ],
   "source": [
    "df.loc[0,\"Text_2\"]"
   ]
  },
  {
   "cell_type": "code",
   "execution_count": 18,
   "id": "00d7c82c-843b-4869-9691-e62c0ada4287",
   "metadata": {},
   "outputs": [],
   "source": [
    "#Boşlukların silinmesi\n",
    "def remove_space(value):\n",
    "    return[item for item in value if item.strip()] #strip kaldırma\n",
    "\n",
    "df[\"Text_2\"]=df[\"Text_2\"].apply(remove_space)"
   ]
  },
  {
   "cell_type": "code",
   "execution_count": 19,
   "id": "7a80165e-64a1-46c2-a4e0-aa9f7e989425",
   "metadata": {},
   "outputs": [
    {
     "data": {
      "text/plain": [
       "['yapay',\n",
       " 'zeka',\n",
       " 'nedir',\n",
       " 'işe',\n",
       " 'yarar',\n",
       " 'yapay',\n",
       " 'zeka',\n",
       " 'yz',\n",
       " 'bilgisayar',\n",
       " 'cihazların',\n",
       " 'in',\n",
       " 'zeka',\n",
       " 'benzer',\n",
       " 'şekil',\n",
       " 'düşünmesini',\n",
       " 'öğrenmesini',\n",
       " 'karar',\n",
       " 'verme',\n",
       " 'proble',\n",
       " 'çözme',\n",
       " 'sağlaya',\n",
       " 'bil',\n",
       " 'dalıdır',\n",
       " 'yapay',\n",
       " 'zeka',\n",
       " 'teknolojisi',\n",
       " 'doğal',\n",
       " 'dil',\n",
       " 'işleme',\n",
       " 'ses',\n",
       " 'tanıma',\n",
       " 'gör',\n",
       " 'işleme']"
      ]
     },
     "execution_count": 19,
     "metadata": {},
     "output_type": "execute_result"
    }
   ],
   "source": [
    "df.loc[0,\"Text_2\"]"
   ]
  },
  {
   "cell_type": "code",
   "execution_count": 20,
   "id": "fc007200-bb70-4dbc-aed7-eace53de0dab",
   "metadata": {},
   "outputs": [
    {
     "data": {
      "text/html": [
       "<div>\n",
       "<style scoped>\n",
       "    .dataframe tbody tr th:only-of-type {\n",
       "        vertical-align: middle;\n",
       "    }\n",
       "\n",
       "    .dataframe tbody tr th {\n",
       "        vertical-align: top;\n",
       "    }\n",
       "\n",
       "    .dataframe thead th {\n",
       "        text-align: right;\n",
       "    }\n",
       "</style>\n",
       "<table border=\"1\" class=\"dataframe\">\n",
       "  <thead>\n",
       "    <tr style=\"text-align: right;\">\n",
       "      <th></th>\n",
       "      <th>Text</th>\n",
       "      <th>Text_2</th>\n",
       "    </tr>\n",
       "  </thead>\n",
       "  <tbody>\n",
       "    <tr>\n",
       "      <th>0</th>\n",
       "      <td>Yapay Zeka Nedir, Ne İşe Yarar?\\n\\nYapay zeka ...</td>\n",
       "      <td>[yapay, zeka, nedir, işe, yarar, yapay, zeka, ...</td>\n",
       "    </tr>\n",
       "    <tr>\n",
       "      <th>1</th>\n",
       "      <td>🔎 Verilerinizi analiz edin: \\nChatGPT'yi kulla...</td>\n",
       "      <td>[veri, analiz, edin, chatgptyi, kullanarak, do...</td>\n",
       "    </tr>\n",
       "    <tr>\n",
       "      <th>2</th>\n",
       "      <td>Öncelikle yapay zekanın ne olduğunu, #dijitala...</td>\n",
       "      <td>[öncelik, yapay, zeka, olduğunu, iç, önemli, o...</td>\n",
       "    </tr>\n",
       "    <tr>\n",
       "      <th>3</th>\n",
       "      <td>9. Baidu Research: Çin'in önde gelen arama mot...</td>\n",
       "      <td>[baidu, research, çin, gele, ara, motor, baidu...</td>\n",
       "    </tr>\n",
       "    <tr>\n",
       "      <th>4</th>\n",
       "      <td>4. Microsoft AI: Microsoft'un yapay zeka tekno...</td>\n",
       "      <td>[microsoft, ai, microsoft, yapay, zeka, teknol...</td>\n",
       "    </tr>\n",
       "  </tbody>\n",
       "</table>\n",
       "</div>"
      ],
      "text/plain": [
       "                                                Text  \\\n",
       "0  Yapay Zeka Nedir, Ne İşe Yarar?\\n\\nYapay zeka ...   \n",
       "1  🔎 Verilerinizi analiz edin: \\nChatGPT'yi kulla...   \n",
       "2  Öncelikle yapay zekanın ne olduğunu, #dijitala...   \n",
       "3  9. Baidu Research: Çin'in önde gelen arama mot...   \n",
       "4  4. Microsoft AI: Microsoft'un yapay zeka tekno...   \n",
       "\n",
       "                                              Text_2  \n",
       "0  [yapay, zeka, nedir, işe, yarar, yapay, zeka, ...  \n",
       "1  [veri, analiz, edin, chatgptyi, kullanarak, do...  \n",
       "2  [öncelik, yapay, zeka, olduğunu, iç, önemli, o...  \n",
       "3  [baidu, research, çin, gele, ara, motor, baidu...  \n",
       "4  [microsoft, ai, microsoft, yapay, zeka, teknol...  "
      ]
     },
     "execution_count": 20,
     "metadata": {},
     "output_type": "execute_result"
    }
   ],
   "source": [
    "df.head()"
   ]
  },
  {
   "cell_type": "code",
   "execution_count": null,
   "id": "6241761f-22dd-4628-8e49-183424d036e0",
   "metadata": {},
   "outputs": [],
   "source": []
  }
 ],
 "metadata": {
  "kernelspec": {
   "display_name": "Python 3 (ipykernel)",
   "language": "python",
   "name": "python3"
  },
  "language_info": {
   "codemirror_mode": {
    "name": "ipython",
    "version": 3
   },
   "file_extension": ".py",
   "mimetype": "text/x-python",
   "name": "python",
   "nbconvert_exporter": "python",
   "pygments_lexer": "ipython3",
   "version": "3.9.13"
  }
 },
 "nbformat": 4,
 "nbformat_minor": 5
}
