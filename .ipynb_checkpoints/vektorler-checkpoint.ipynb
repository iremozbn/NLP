{
 "cells": [
  {
   "cell_type": "markdown",
   "id": "5635c90c-a6f5-4662-abe2-00475d101afd",
   "metadata": {},
   "source": [
    "# BAG OF WORDS"
   ]
  },
  {
   "cell_type": "code",
   "execution_count": 1,
   "id": "dee956ae-1212-47b0-9adb-d7430b41a089",
   "metadata": {},
   "outputs": [],
   "source": [
    "from sklearn.feature_extraction.text import CountVectorizer #bow için kullanılan kütüphane\n",
    "import pandas as pd"
   ]
  },
  {
   "cell_type": "code",
   "execution_count": 2,
   "id": "ff4174b3-0b57-45aa-b355-f3bd87c74314",
   "metadata": {
    "tags": []
   },
   "outputs": [
    {
     "data": {
      "text/html": [
       "<div>\n",
       "<style scoped>\n",
       "    .dataframe tbody tr th:only-of-type {\n",
       "        vertical-align: middle;\n",
       "    }\n",
       "\n",
       "    .dataframe tbody tr th {\n",
       "        vertical-align: top;\n",
       "    }\n",
       "\n",
       "    .dataframe thead th {\n",
       "        text-align: right;\n",
       "    }\n",
       "</style>\n",
       "<table border=\"1\" class=\"dataframe\">\n",
       "  <thead>\n",
       "    <tr style=\"text-align: right;\">\n",
       "      <th></th>\n",
       "      <th>Text</th>\n",
       "    </tr>\n",
       "  </thead>\n",
       "  <tbody>\n",
       "    <tr>\n",
       "      <th>0</th>\n",
       "      <td>Yapay Zeka Nedir, Ne İşe Yarar?\\n\\nYapay zeka ...</td>\n",
       "    </tr>\n",
       "    <tr>\n",
       "      <th>1</th>\n",
       "      <td>🔎 Verilerinizi analiz edin: \\nChatGPT'yi kulla...</td>\n",
       "    </tr>\n",
       "    <tr>\n",
       "      <th>2</th>\n",
       "      <td>Öncelikle yapay zekanın ne olduğunu, #dijitala...</td>\n",
       "    </tr>\n",
       "    <tr>\n",
       "      <th>3</th>\n",
       "      <td>9. Baidu Research: Çin'in önde gelen arama mot...</td>\n",
       "    </tr>\n",
       "    <tr>\n",
       "      <th>4</th>\n",
       "      <td>4. Microsoft AI: Microsoft'un yapay zeka tekno...</td>\n",
       "    </tr>\n",
       "  </tbody>\n",
       "</table>\n",
       "</div>"
      ],
      "text/plain": [
       "                                                Text\n",
       "0  Yapay Zeka Nedir, Ne İşe Yarar?\\n\\nYapay zeka ...\n",
       "1  🔎 Verilerinizi analiz edin: \\nChatGPT'yi kulla...\n",
       "2  Öncelikle yapay zekanın ne olduğunu, #dijitala...\n",
       "3  9. Baidu Research: Çin'in önde gelen arama mot...\n",
       "4  4. Microsoft AI: Microsoft'un yapay zeka tekno..."
      ]
     },
     "execution_count": 2,
     "metadata": {},
     "output_type": "execute_result"
    }
   ],
   "source": [
    "df = pd.read_csv(\"nlp.csv\",index_col=0)\n",
    "df.head()"
   ]
  },
  {
   "cell_type": "code",
   "execution_count": 3,
   "id": "ff36a832-6bef-4162-b8ce-65df15ede27e",
   "metadata": {},
   "outputs": [],
   "source": [
    "import on_islem"
   ]
  },
  {
   "cell_type": "code",
   "execution_count": 4,
   "id": "f64624e7-77ea-485a-9128-8a7b58eed724",
   "metadata": {},
   "outputs": [
    {
     "data": {
      "text/html": [
       "<div>\n",
       "<style scoped>\n",
       "    .dataframe tbody tr th:only-of-type {\n",
       "        vertical-align: middle;\n",
       "    }\n",
       "\n",
       "    .dataframe tbody tr th {\n",
       "        vertical-align: top;\n",
       "    }\n",
       "\n",
       "    .dataframe thead th {\n",
       "        text-align: right;\n",
       "    }\n",
       "</style>\n",
       "<table border=\"1\" class=\"dataframe\">\n",
       "  <thead>\n",
       "    <tr style=\"text-align: right;\">\n",
       "      <th></th>\n",
       "      <th>Text</th>\n",
       "      <th>Text_2</th>\n",
       "    </tr>\n",
       "  </thead>\n",
       "  <tbody>\n",
       "    <tr>\n",
       "      <th>0</th>\n",
       "      <td>Yapay Zeka Nedir, Ne İşe Yarar?\\n\\nYapay zeka ...</td>\n",
       "      <td>[yapay, zeka, nedir, işe, yarar, yapay, zeka, ...</td>\n",
       "    </tr>\n",
       "    <tr>\n",
       "      <th>1</th>\n",
       "      <td>🔎 Verilerinizi analiz edin: \\nChatGPT'yi kulla...</td>\n",
       "      <td>[veri, analiz, edin, chatgptyi, kullanarak, do...</td>\n",
       "    </tr>\n",
       "    <tr>\n",
       "      <th>2</th>\n",
       "      <td>Öncelikle yapay zekanın ne olduğunu, #dijitala...</td>\n",
       "      <td>[öncelik, yapay, zeka, olduğunu, iç, önemli, o...</td>\n",
       "    </tr>\n",
       "    <tr>\n",
       "      <th>3</th>\n",
       "      <td>9. Baidu Research: Çin'in önde gelen arama mot...</td>\n",
       "      <td>[baidu, research, çin, gele, ara, motor, baidu...</td>\n",
       "    </tr>\n",
       "    <tr>\n",
       "      <th>4</th>\n",
       "      <td>4. Microsoft AI: Microsoft'un yapay zeka tekno...</td>\n",
       "      <td>[microsoft, ai, microsoft, yapay, zeka, teknol...</td>\n",
       "    </tr>\n",
       "  </tbody>\n",
       "</table>\n",
       "</div>"
      ],
      "text/plain": [
       "                                                Text  \\\n",
       "0  Yapay Zeka Nedir, Ne İşe Yarar?\\n\\nYapay zeka ...   \n",
       "1  🔎 Verilerinizi analiz edin: \\nChatGPT'yi kulla...   \n",
       "2  Öncelikle yapay zekanın ne olduğunu, #dijitala...   \n",
       "3  9. Baidu Research: Çin'in önde gelen arama mot...   \n",
       "4  4. Microsoft AI: Microsoft'un yapay zeka tekno...   \n",
       "\n",
       "                                              Text_2  \n",
       "0  [yapay, zeka, nedir, işe, yarar, yapay, zeka, ...  \n",
       "1  [veri, analiz, edin, chatgptyi, kullanarak, do...  \n",
       "2  [öncelik, yapay, zeka, olduğunu, iç, önemli, o...  \n",
       "3  [baidu, research, çin, gele, ara, motor, baidu...  \n",
       "4  [microsoft, ai, microsoft, yapay, zeka, teknol...  "
      ]
     },
     "execution_count": 4,
     "metadata": {},
     "output_type": "execute_result"
    }
   ],
   "source": [
    "df[\"Text_2\"]=df[\"Text\"].apply(on_islem.pre_processing)\n",
    "df[\"Text_2\"]=df[\"Text_2\"].apply(on_islem.remove_space)\n",
    "df.head()"
   ]
  },
  {
   "cell_type": "code",
   "execution_count": 5,
   "id": "a0ddcd21-51ad-4af9-9efa-3f4c6b4df8f1",
   "metadata": {},
   "outputs": [
    {
     "data": {
      "text/html": [
       "<div>\n",
       "<style scoped>\n",
       "    .dataframe tbody tr th:only-of-type {\n",
       "        vertical-align: middle;\n",
       "    }\n",
       "\n",
       "    .dataframe tbody tr th {\n",
       "        vertical-align: top;\n",
       "    }\n",
       "\n",
       "    .dataframe thead th {\n",
       "        text-align: right;\n",
       "    }\n",
       "</style>\n",
       "<table border=\"1\" class=\"dataframe\">\n",
       "  <thead>\n",
       "    <tr style=\"text-align: right;\">\n",
       "      <th></th>\n",
       "      <th>Text</th>\n",
       "      <th>Text_2</th>\n",
       "    </tr>\n",
       "  </thead>\n",
       "  <tbody>\n",
       "    <tr>\n",
       "      <th>194</th>\n",
       "      <td>#hesaplamalısosyalbilimler #computationalsocia...</td>\n",
       "      <td>[]</td>\n",
       "    </tr>\n",
       "    <tr>\n",
       "      <th>464</th>\n",
       "      <td>#investment #software #technology #tech #innov...</td>\n",
       "      <td>[]</td>\n",
       "    </tr>\n",
       "    <tr>\n",
       "      <th>544</th>\n",
       "      <td>@barolar #ImageRecognition #SınırlıHafıza #Lim...</td>\n",
       "      <td>[]</td>\n",
       "    </tr>\n",
       "  </tbody>\n",
       "</table>\n",
       "</div>"
      ],
      "text/plain": [
       "                                                  Text Text_2\n",
       "194  #hesaplamalısosyalbilimler #computationalsocia...     []\n",
       "464  #investment #software #technology #tech #innov...     []\n",
       "544  @barolar #ImageRecognition #SınırlıHafıza #Lim...     []"
      ]
     },
     "execution_count": 5,
     "metadata": {},
     "output_type": "execute_result"
    }
   ],
   "source": [
    "#boş liste kontrolü\n",
    "\n",
    "df[df[\"Text_2\"].str[0].isnull()]"
   ]
  },
  {
   "cell_type": "code",
   "execution_count": 6,
   "id": "f3f06e5d-b368-42ee-b1b5-7876584fea11",
   "metadata": {},
   "outputs": [
    {
     "data": {
      "text/html": [
       "<div>\n",
       "<style scoped>\n",
       "    .dataframe tbody tr th:only-of-type {\n",
       "        vertical-align: middle;\n",
       "    }\n",
       "\n",
       "    .dataframe tbody tr th {\n",
       "        vertical-align: top;\n",
       "    }\n",
       "\n",
       "    .dataframe thead th {\n",
       "        text-align: right;\n",
       "    }\n",
       "</style>\n",
       "<table border=\"1\" class=\"dataframe\">\n",
       "  <thead>\n",
       "    <tr style=\"text-align: right;\">\n",
       "      <th></th>\n",
       "      <th>Text</th>\n",
       "      <th>Text_2</th>\n",
       "    </tr>\n",
       "  </thead>\n",
       "  <tbody>\n",
       "  </tbody>\n",
       "</table>\n",
       "</div>"
      ],
      "text/plain": [
       "Empty DataFrame\n",
       "Columns: [Text, Text_2]\n",
       "Index: []"
      ]
     },
     "execution_count": 6,
     "metadata": {},
     "output_type": "execute_result"
    }
   ],
   "source": [
    "#boş satırların silinmesi\n",
    "df_index = df[df[\"Text_2\"].str[0].isnull()].index\n",
    "df=df.drop(df_index)\n",
    "df=df.reset_index()\n",
    "del df[\"index\"]\n",
    "\n",
    "df[df[\"Text_2\"].str[0].isnull()]"
   ]
  },
  {
   "cell_type": "code",
   "execution_count": 7,
   "id": "fcaebe96-e1ee-4fa7-a47c-b8cbcfbf86cf",
   "metadata": {},
   "outputs": [
    {
     "data": {
      "text/plain": [
       "0      [yapay, zeka, nedir, işe, yarar, yapay, zeka, ...\n",
       "1      [veri, analiz, edin, chatgptyi, kullanarak, do...\n",
       "2      [öncelik, yapay, zeka, olduğunu, iç, önemli, o...\n",
       "3      [baidu, research, çin, gele, ara, motor, baidu...\n",
       "4      [microsoft, ai, microsoft, yapay, zeka, teknol...\n",
       "                             ...                        \n",
       "850    [doğal, dil, işle, alan, yük, lisansdoktor, ya...\n",
       "851                              [dogal, dil, isle, şey]\n",
       "852       [ver, madencilik, doğal, dil, işle, uygulamas]\n",
       "853    [doğal, dil, işleme, il, ilgil, deney, ola, ya...\n",
       "854    [hafta, öğrencilik, hayat, kaldık, yer, deva, ...\n",
       "Name: Text_2, Length: 855, dtype: object"
      ]
     },
     "execution_count": 7,
     "metadata": {},
     "output_type": "execute_result"
    }
   ],
   "source": [
    "df[\"Text_2\"]"
   ]
  },
  {
   "cell_type": "code",
   "execution_count": 8,
   "id": "75d33254-bcad-4d9e-8ba8-9d9eaac923a6",
   "metadata": {},
   "outputs": [
    {
     "data": {
      "text/html": [
       "<div>\n",
       "<style scoped>\n",
       "    .dataframe tbody tr th:only-of-type {\n",
       "        vertical-align: middle;\n",
       "    }\n",
       "\n",
       "    .dataframe tbody tr th {\n",
       "        vertical-align: top;\n",
       "    }\n",
       "\n",
       "    .dataframe thead th {\n",
       "        text-align: right;\n",
       "    }\n",
       "</style>\n",
       "<table border=\"1\" class=\"dataframe\">\n",
       "  <thead>\n",
       "    <tr style=\"text-align: right;\">\n",
       "      <th></th>\n",
       "      <th>Text</th>\n",
       "      <th>Text_2</th>\n",
       "      <th>Text_3</th>\n",
       "    </tr>\n",
       "  </thead>\n",
       "  <tbody>\n",
       "    <tr>\n",
       "      <th>0</th>\n",
       "      <td>Yapay Zeka Nedir, Ne İşe Yarar?\\n\\nYapay zeka ...</td>\n",
       "      <td>[yapay, zeka, nedir, işe, yarar, yapay, zeka, ...</td>\n",
       "      <td>yapay zeka nedir işe yarar yapay zeka yz bilgi...</td>\n",
       "    </tr>\n",
       "    <tr>\n",
       "      <th>1</th>\n",
       "      <td>🔎 Verilerinizi analiz edin: \\nChatGPT'yi kulla...</td>\n",
       "      <td>[veri, analiz, edin, chatgptyi, kullanarak, do...</td>\n",
       "      <td>veri analiz edin chatgptyi kullanarak doğal di...</td>\n",
       "    </tr>\n",
       "    <tr>\n",
       "      <th>2</th>\n",
       "      <td>Öncelikle yapay zekanın ne olduğunu, #dijitala...</td>\n",
       "      <td>[öncelik, yapay, zeka, olduğunu, iç, önemli, o...</td>\n",
       "      <td>öncelik yapay zeka olduğunu iç önemli olduk kı...</td>\n",
       "    </tr>\n",
       "    <tr>\n",
       "      <th>3</th>\n",
       "      <td>9. Baidu Research: Çin'in önde gelen arama mot...</td>\n",
       "      <td>[baidu, research, çin, gele, ara, motor, baidu...</td>\n",
       "      <td>baidu research çin gele ara motor baidun araşt...</td>\n",
       "    </tr>\n",
       "    <tr>\n",
       "      <th>4</th>\n",
       "      <td>4. Microsoft AI: Microsoft'un yapay zeka tekno...</td>\n",
       "      <td>[microsoft, ai, microsoft, yapay, zeka, teknol...</td>\n",
       "      <td>microsoft ai microsoft yapay zeka teknoloji od...</td>\n",
       "    </tr>\n",
       "    <tr>\n",
       "      <th>...</th>\n",
       "      <td>...</td>\n",
       "      <td>...</td>\n",
       "      <td>...</td>\n",
       "    </tr>\n",
       "    <tr>\n",
       "      <th>850</th>\n",
       "      <td>doğal dil işleme alanında yüksek lisans-doktor...</td>\n",
       "      <td>[doğal, dil, işle, alan, yük, lisansdoktor, ya...</td>\n",
       "      <td>doğal dil işle alan yük lisansdoktor yapa danı...</td>\n",
       "    </tr>\n",
       "    <tr>\n",
       "      <th>851</th>\n",
       "      <td>dogal dil isleme şeyleri</td>\n",
       "      <td>[dogal, dil, isle, şey]</td>\n",
       "      <td>dogal dil isle şey</td>\n",
       "    </tr>\n",
       "    <tr>\n",
       "      <th>852</th>\n",
       "      <td>Bir veri madenciliği ve doğal dil işleme uygul...</td>\n",
       "      <td>[ver, madencilik, doğal, dil, işle, uygulamas]</td>\n",
       "      <td>ver madencilik doğal dil işle uygulamas</td>\n",
       "    </tr>\n",
       "    <tr>\n",
       "      <th>853</th>\n",
       "      <td>\"Doğal dil işleme\" ile ilgili deneyimi olan ya...</td>\n",
       "      <td>[doğal, dil, işleme, il, ilgil, deney, ola, ya...</td>\n",
       "      <td>doğal dil işleme il ilgil deney ola yazılımcı ...</td>\n",
       "    </tr>\n",
       "    <tr>\n",
       "      <th>854</th>\n",
       "      <td>Haftaya öğrencilik hayatıma kaldığım yerden de...</td>\n",
       "      <td>[hafta, öğrencilik, hayat, kaldık, yer, deva, ...</td>\n",
       "      <td>hafta öğrencilik hayat kaldık yer deva ediyoru...</td>\n",
       "    </tr>\n",
       "  </tbody>\n",
       "</table>\n",
       "<p>855 rows × 3 columns</p>\n",
       "</div>"
      ],
      "text/plain": [
       "                                                  Text  \\\n",
       "0    Yapay Zeka Nedir, Ne İşe Yarar?\\n\\nYapay zeka ...   \n",
       "1    🔎 Verilerinizi analiz edin: \\nChatGPT'yi kulla...   \n",
       "2    Öncelikle yapay zekanın ne olduğunu, #dijitala...   \n",
       "3    9. Baidu Research: Çin'in önde gelen arama mot...   \n",
       "4    4. Microsoft AI: Microsoft'un yapay zeka tekno...   \n",
       "..                                                 ...   \n",
       "850  doğal dil işleme alanında yüksek lisans-doktor...   \n",
       "851                           dogal dil isleme şeyleri   \n",
       "852  Bir veri madenciliği ve doğal dil işleme uygul...   \n",
       "853  \"Doğal dil işleme\" ile ilgili deneyimi olan ya...   \n",
       "854  Haftaya öğrencilik hayatıma kaldığım yerden de...   \n",
       "\n",
       "                                                Text_2  \\\n",
       "0    [yapay, zeka, nedir, işe, yarar, yapay, zeka, ...   \n",
       "1    [veri, analiz, edin, chatgptyi, kullanarak, do...   \n",
       "2    [öncelik, yapay, zeka, olduğunu, iç, önemli, o...   \n",
       "3    [baidu, research, çin, gele, ara, motor, baidu...   \n",
       "4    [microsoft, ai, microsoft, yapay, zeka, teknol...   \n",
       "..                                                 ...   \n",
       "850  [doğal, dil, işle, alan, yük, lisansdoktor, ya...   \n",
       "851                            [dogal, dil, isle, şey]   \n",
       "852     [ver, madencilik, doğal, dil, işle, uygulamas]   \n",
       "853  [doğal, dil, işleme, il, ilgil, deney, ola, ya...   \n",
       "854  [hafta, öğrencilik, hayat, kaldık, yer, deva, ...   \n",
       "\n",
       "                                                Text_3  \n",
       "0    yapay zeka nedir işe yarar yapay zeka yz bilgi...  \n",
       "1    veri analiz edin chatgptyi kullanarak doğal di...  \n",
       "2    öncelik yapay zeka olduğunu iç önemli olduk kı...  \n",
       "3    baidu research çin gele ara motor baidun araşt...  \n",
       "4    microsoft ai microsoft yapay zeka teknoloji od...  \n",
       "..                                                 ...  \n",
       "850  doğal dil işle alan yük lisansdoktor yapa danı...  \n",
       "851                                 dogal dil isle şey  \n",
       "852            ver madencilik doğal dil işle uygulamas  \n",
       "853  doğal dil işleme il ilgil deney ola yazılımcı ...  \n",
       "854  hafta öğrencilik hayat kaldık yer deva ediyoru...  \n",
       "\n",
       "[855 rows x 3 columns]"
      ]
     },
     "execution_count": 8,
     "metadata": {},
     "output_type": "execute_result"
    }
   ],
   "source": [
    "df[\"Text_3\"] = [' '.join(w for w in item) for item in df[\"Text_2\"]] #birleştirilmiş\n",
    "df"
   ]
  },
  {
   "cell_type": "code",
   "execution_count": 9,
   "id": "b12a3514-eed3-470e-9d2d-9695cabc895a",
   "metadata": {},
   "outputs": [
    {
     "data": {
      "text/plain": [
       "<855x4773 sparse matrix of type '<class 'numpy.int64'>'\n",
       "\twith 16674 stored elements in Compressed Sparse Row format>"
      ]
     },
     "execution_count": 9,
     "metadata": {},
     "output_type": "execute_result"
    }
   ],
   "source": [
    "vectorizer = CountVectorizer()\n",
    "X = vectorizer.fit_transform(df[\"Text_3\"].tolist())\n",
    "X"
   ]
  },
  {
   "cell_type": "code",
   "execution_count": 10,
   "id": "47b4f91e-44d7-4e28-bc7f-09c709e02d1c",
   "metadata": {},
   "outputs": [
    {
     "data": {
      "text/plain": [
       "array([[0, 0, 0, ..., 0, 0, 0],\n",
       "       [0, 0, 0, ..., 0, 0, 0],\n",
       "       [0, 0, 0, ..., 0, 0, 0],\n",
       "       ...,\n",
       "       [0, 0, 0, ..., 0, 0, 0],\n",
       "       [0, 0, 0, ..., 0, 0, 0],\n",
       "       [0, 0, 0, ..., 0, 0, 0]], dtype=int64)"
      ]
     },
     "execution_count": 10,
     "metadata": {},
     "output_type": "execute_result"
    }
   ],
   "source": [
    "X.toarray()"
   ]
  },
  {
   "cell_type": "code",
   "execution_count": 11,
   "id": "acf4492b-6ba3-4bd4-a0d5-c1d54a7b9c61",
   "metadata": {},
   "outputs": [
    {
     "data": {
      "text/html": [
       "<div>\n",
       "<style scoped>\n",
       "    .dataframe tbody tr th:only-of-type {\n",
       "        vertical-align: middle;\n",
       "    }\n",
       "\n",
       "    .dataframe tbody tr th {\n",
       "        vertical-align: top;\n",
       "    }\n",
       "\n",
       "    .dataframe thead th {\n",
       "        text-align: right;\n",
       "    }\n",
       "</style>\n",
       "<table border=\"1\" class=\"dataframe\">\n",
       "  <thead>\n",
       "    <tr style=\"text-align: right;\">\n",
       "      <th></th>\n",
       "      <th>Text</th>\n",
       "      <th>Text_2</th>\n",
       "      <th>Text_3</th>\n",
       "      <th>Text_4</th>\n",
       "    </tr>\n",
       "  </thead>\n",
       "  <tbody>\n",
       "    <tr>\n",
       "      <th>0</th>\n",
       "      <td>Yapay Zeka Nedir, Ne İşe Yarar?\\n\\nYapay zeka ...</td>\n",
       "      <td>[yapay, zeka, nedir, işe, yarar, yapay, zeka, ...</td>\n",
       "      <td>yapay zeka nedir işe yarar yapay zeka yz bilgi...</td>\n",
       "      <td>[0, 0, 0, 0, 0, 0, 0, 0, 0, 0, 0, 0, 0, 0, 0, ...</td>\n",
       "    </tr>\n",
       "    <tr>\n",
       "      <th>1</th>\n",
       "      <td>🔎 Verilerinizi analiz edin: \\nChatGPT'yi kulla...</td>\n",
       "      <td>[veri, analiz, edin, chatgptyi, kullanarak, do...</td>\n",
       "      <td>veri analiz edin chatgptyi kullanarak doğal di...</td>\n",
       "      <td>[0, 0, 0, 0, 0, 0, 0, 0, 0, 0, 0, 0, 0, 0, 0, ...</td>\n",
       "    </tr>\n",
       "    <tr>\n",
       "      <th>2</th>\n",
       "      <td>Öncelikle yapay zekanın ne olduğunu, #dijitala...</td>\n",
       "      <td>[öncelik, yapay, zeka, olduğunu, iç, önemli, o...</td>\n",
       "      <td>öncelik yapay zeka olduğunu iç önemli olduk kı...</td>\n",
       "      <td>[0, 0, 0, 0, 0, 0, 0, 0, 0, 0, 0, 0, 0, 0, 0, ...</td>\n",
       "    </tr>\n",
       "    <tr>\n",
       "      <th>3</th>\n",
       "      <td>9. Baidu Research: Çin'in önde gelen arama mot...</td>\n",
       "      <td>[baidu, research, çin, gele, ara, motor, baidu...</td>\n",
       "      <td>baidu research çin gele ara motor baidun araşt...</td>\n",
       "      <td>[0, 0, 0, 0, 0, 0, 0, 0, 0, 0, 0, 0, 0, 0, 0, ...</td>\n",
       "    </tr>\n",
       "    <tr>\n",
       "      <th>4</th>\n",
       "      <td>4. Microsoft AI: Microsoft'un yapay zeka tekno...</td>\n",
       "      <td>[microsoft, ai, microsoft, yapay, zeka, teknol...</td>\n",
       "      <td>microsoft ai microsoft yapay zeka teknoloji od...</td>\n",
       "      <td>[0, 0, 0, 0, 0, 0, 0, 0, 0, 0, 0, 0, 0, 0, 0, ...</td>\n",
       "    </tr>\n",
       "  </tbody>\n",
       "</table>\n",
       "</div>"
      ],
      "text/plain": [
       "                                                Text  \\\n",
       "0  Yapay Zeka Nedir, Ne İşe Yarar?\\n\\nYapay zeka ...   \n",
       "1  🔎 Verilerinizi analiz edin: \\nChatGPT'yi kulla...   \n",
       "2  Öncelikle yapay zekanın ne olduğunu, #dijitala...   \n",
       "3  9. Baidu Research: Çin'in önde gelen arama mot...   \n",
       "4  4. Microsoft AI: Microsoft'un yapay zeka tekno...   \n",
       "\n",
       "                                              Text_2  \\\n",
       "0  [yapay, zeka, nedir, işe, yarar, yapay, zeka, ...   \n",
       "1  [veri, analiz, edin, chatgptyi, kullanarak, do...   \n",
       "2  [öncelik, yapay, zeka, olduğunu, iç, önemli, o...   \n",
       "3  [baidu, research, çin, gele, ara, motor, baidu...   \n",
       "4  [microsoft, ai, microsoft, yapay, zeka, teknol...   \n",
       "\n",
       "                                              Text_3  \\\n",
       "0  yapay zeka nedir işe yarar yapay zeka yz bilgi...   \n",
       "1  veri analiz edin chatgptyi kullanarak doğal di...   \n",
       "2  öncelik yapay zeka olduğunu iç önemli olduk kı...   \n",
       "3  baidu research çin gele ara motor baidun araşt...   \n",
       "4  microsoft ai microsoft yapay zeka teknoloji od...   \n",
       "\n",
       "                                              Text_4  \n",
       "0  [0, 0, 0, 0, 0, 0, 0, 0, 0, 0, 0, 0, 0, 0, 0, ...  \n",
       "1  [0, 0, 0, 0, 0, 0, 0, 0, 0, 0, 0, 0, 0, 0, 0, ...  \n",
       "2  [0, 0, 0, 0, 0, 0, 0, 0, 0, 0, 0, 0, 0, 0, 0, ...  \n",
       "3  [0, 0, 0, 0, 0, 0, 0, 0, 0, 0, 0, 0, 0, 0, 0, ...  \n",
       "4  [0, 0, 0, 0, 0, 0, 0, 0, 0, 0, 0, 0, 0, 0, 0, ...  "
      ]
     },
     "execution_count": 11,
     "metadata": {},
     "output_type": "execute_result"
    }
   ],
   "source": [
    "df[\"Text_4\"] = X.toarray().tolist() #BoW temsili\n",
    "df.head()"
   ]
  },
  {
   "cell_type": "markdown",
   "id": "820ac497-11a5-4379-87ae-3d1e6b455895",
   "metadata": {},
   "source": [
    "# TF-IDF"
   ]
  },
  {
   "cell_type": "code",
   "execution_count": 12,
   "id": "fe88648c-d0c0-4733-be78-f67c721a6366",
   "metadata": {},
   "outputs": [],
   "source": [
    "from sklearn.feature_extraction.text import TfidfVectorizer #bowdan daha yaygın"
   ]
  },
  {
   "cell_type": "code",
   "execution_count": 13,
   "id": "adfd32ee-c436-4bc5-b9a0-342bce871c50",
   "metadata": {},
   "outputs": [],
   "source": [
    "vectorizer = TfidfVectorizer()\n",
    "X =vectorizer.fit_transform(df[\"Text_3\"].tolist())"
   ]
  },
  {
   "cell_type": "code",
   "execution_count": 14,
   "id": "9e35e8b4-3230-42e3-b0a4-bd3b4d4687e8",
   "metadata": {},
   "outputs": [
    {
     "data": {
      "text/plain": [
       "array([[0., 0., 0., ..., 0., 0., 0.],\n",
       "       [0., 0., 0., ..., 0., 0., 0.],\n",
       "       [0., 0., 0., ..., 0., 0., 0.],\n",
       "       ...,\n",
       "       [0., 0., 0., ..., 0., 0., 0.],\n",
       "       [0., 0., 0., ..., 0., 0., 0.],\n",
       "       [0., 0., 0., ..., 0., 0., 0.]])"
      ]
     },
     "execution_count": 14,
     "metadata": {},
     "output_type": "execute_result"
    }
   ],
   "source": [
    "X.toarray()"
   ]
  },
  {
   "cell_type": "code",
   "execution_count": 15,
   "id": "274dbaef-8748-48a8-a1ed-77379874edce",
   "metadata": {},
   "outputs": [
    {
     "data": {
      "text/plain": [
       "{0.0,\n",
       " 0.0355008944380632,\n",
       " 0.0372910162927374,\n",
       " 0.12464399664762972,\n",
       " 0.13025811378081134,\n",
       " 0.13094337342541515,\n",
       " 0.15115865390521271,\n",
       " 0.15659734811972853,\n",
       " 0.15810511628874452,\n",
       " 0.168906811684282,\n",
       " 0.17594977256459482,\n",
       " 0.17866475707391988,\n",
       " 0.1924178086582734,\n",
       " 0.20217575404791133,\n",
       " 0.2082733199144597,\n",
       " 0.21592880563226485,\n",
       " 0.22498674035172325,\n",
       " 0.22568675102190272,\n",
       " 0.2394398026062563,\n",
       " 0.32001309960812235}"
      ]
     },
     "execution_count": 15,
     "metadata": {},
     "output_type": "execute_result"
    }
   ],
   "source": [
    "set(X.toarray()[0])"
   ]
  },
  {
   "cell_type": "code",
   "execution_count": 16,
   "id": "feea0d5e-3964-4685-8891-15865c1b7808",
   "metadata": {},
   "outputs": [
    {
     "data": {
      "text/html": [
       "<div>\n",
       "<style scoped>\n",
       "    .dataframe tbody tr th:only-of-type {\n",
       "        vertical-align: middle;\n",
       "    }\n",
       "\n",
       "    .dataframe tbody tr th {\n",
       "        vertical-align: top;\n",
       "    }\n",
       "\n",
       "    .dataframe thead th {\n",
       "        text-align: right;\n",
       "    }\n",
       "</style>\n",
       "<table border=\"1\" class=\"dataframe\">\n",
       "  <thead>\n",
       "    <tr style=\"text-align: right;\">\n",
       "      <th></th>\n",
       "      <th>Text</th>\n",
       "      <th>Text_2</th>\n",
       "      <th>Text_3</th>\n",
       "      <th>Text_4</th>\n",
       "      <th>Text_5</th>\n",
       "    </tr>\n",
       "  </thead>\n",
       "  <tbody>\n",
       "    <tr>\n",
       "      <th>0</th>\n",
       "      <td>Yapay Zeka Nedir, Ne İşe Yarar?\\n\\nYapay zeka ...</td>\n",
       "      <td>[yapay, zeka, nedir, işe, yarar, yapay, zeka, ...</td>\n",
       "      <td>yapay zeka nedir işe yarar yapay zeka yz bilgi...</td>\n",
       "      <td>[0, 0, 0, 0, 0, 0, 0, 0, 0, 0, 0, 0, 0, 0, 0, ...</td>\n",
       "      <td>[0.0, 0.0, 0.0, 0.0, 0.0, 0.0, 0.0, 0.0, 0.0, ...</td>\n",
       "    </tr>\n",
       "    <tr>\n",
       "      <th>1</th>\n",
       "      <td>🔎 Verilerinizi analiz edin: \\nChatGPT'yi kulla...</td>\n",
       "      <td>[veri, analiz, edin, chatgptyi, kullanarak, do...</td>\n",
       "      <td>veri analiz edin chatgptyi kullanarak doğal di...</td>\n",
       "      <td>[0, 0, 0, 0, 0, 0, 0, 0, 0, 0, 0, 0, 0, 0, 0, ...</td>\n",
       "      <td>[0.0, 0.0, 0.0, 0.0, 0.0, 0.0, 0.0, 0.0, 0.0, ...</td>\n",
       "    </tr>\n",
       "    <tr>\n",
       "      <th>2</th>\n",
       "      <td>Öncelikle yapay zekanın ne olduğunu, #dijitala...</td>\n",
       "      <td>[öncelik, yapay, zeka, olduğunu, iç, önemli, o...</td>\n",
       "      <td>öncelik yapay zeka olduğunu iç önemli olduk kı...</td>\n",
       "      <td>[0, 0, 0, 0, 0, 0, 0, 0, 0, 0, 0, 0, 0, 0, 0, ...</td>\n",
       "      <td>[0.0, 0.0, 0.0, 0.0, 0.0, 0.0, 0.0, 0.0, 0.0, ...</td>\n",
       "    </tr>\n",
       "    <tr>\n",
       "      <th>3</th>\n",
       "      <td>9. Baidu Research: Çin'in önde gelen arama mot...</td>\n",
       "      <td>[baidu, research, çin, gele, ara, motor, baidu...</td>\n",
       "      <td>baidu research çin gele ara motor baidun araşt...</td>\n",
       "      <td>[0, 0, 0, 0, 0, 0, 0, 0, 0, 0, 0, 0, 0, 0, 0, ...</td>\n",
       "      <td>[0.0, 0.0, 0.0, 0.0, 0.0, 0.0, 0.0, 0.0, 0.0, ...</td>\n",
       "    </tr>\n",
       "    <tr>\n",
       "      <th>4</th>\n",
       "      <td>4. Microsoft AI: Microsoft'un yapay zeka tekno...</td>\n",
       "      <td>[microsoft, ai, microsoft, yapay, zeka, teknol...</td>\n",
       "      <td>microsoft ai microsoft yapay zeka teknoloji od...</td>\n",
       "      <td>[0, 0, 0, 0, 0, 0, 0, 0, 0, 0, 0, 0, 0, 0, 0, ...</td>\n",
       "      <td>[0.0, 0.0, 0.0, 0.0, 0.0, 0.0, 0.0, 0.0, 0.0, ...</td>\n",
       "    </tr>\n",
       "    <tr>\n",
       "      <th>...</th>\n",
       "      <td>...</td>\n",
       "      <td>...</td>\n",
       "      <td>...</td>\n",
       "      <td>...</td>\n",
       "      <td>...</td>\n",
       "    </tr>\n",
       "    <tr>\n",
       "      <th>850</th>\n",
       "      <td>doğal dil işleme alanında yüksek lisans-doktor...</td>\n",
       "      <td>[doğal, dil, işle, alan, yük, lisansdoktor, ya...</td>\n",
       "      <td>doğal dil işle alan yük lisansdoktor yapa danı...</td>\n",
       "      <td>[0, 0, 0, 0, 0, 0, 0, 0, 0, 0, 0, 0, 0, 0, 0, ...</td>\n",
       "      <td>[0.0, 0.0, 0.0, 0.0, 0.0, 0.0, 0.0, 0.0, 0.0, ...</td>\n",
       "    </tr>\n",
       "    <tr>\n",
       "      <th>851</th>\n",
       "      <td>dogal dil isleme şeyleri</td>\n",
       "      <td>[dogal, dil, isle, şey]</td>\n",
       "      <td>dogal dil isle şey</td>\n",
       "      <td>[0, 0, 0, 0, 0, 0, 0, 0, 0, 0, 0, 0, 0, 0, 0, ...</td>\n",
       "      <td>[0.0, 0.0, 0.0, 0.0, 0.0, 0.0, 0.0, 0.0, 0.0, ...</td>\n",
       "    </tr>\n",
       "    <tr>\n",
       "      <th>852</th>\n",
       "      <td>Bir veri madenciliği ve doğal dil işleme uygul...</td>\n",
       "      <td>[ver, madencilik, doğal, dil, işle, uygulamas]</td>\n",
       "      <td>ver madencilik doğal dil işle uygulamas</td>\n",
       "      <td>[0, 0, 0, 0, 0, 0, 0, 0, 0, 0, 0, 0, 0, 0, 0, ...</td>\n",
       "      <td>[0.0, 0.0, 0.0, 0.0, 0.0, 0.0, 0.0, 0.0, 0.0, ...</td>\n",
       "    </tr>\n",
       "    <tr>\n",
       "      <th>853</th>\n",
       "      <td>\"Doğal dil işleme\" ile ilgili deneyimi olan ya...</td>\n",
       "      <td>[doğal, dil, işleme, il, ilgil, deney, ola, ya...</td>\n",
       "      <td>doğal dil işleme il ilgil deney ola yazılımcı ...</td>\n",
       "      <td>[0, 0, 0, 0, 0, 0, 0, 0, 0, 0, 0, 0, 0, 0, 0, ...</td>\n",
       "      <td>[0.0, 0.0, 0.0, 0.0, 0.0, 0.0, 0.0, 0.0, 0.0, ...</td>\n",
       "    </tr>\n",
       "    <tr>\n",
       "      <th>854</th>\n",
       "      <td>Haftaya öğrencilik hayatıma kaldığım yerden de...</td>\n",
       "      <td>[hafta, öğrencilik, hayat, kaldık, yer, deva, ...</td>\n",
       "      <td>hafta öğrencilik hayat kaldık yer deva ediyoru...</td>\n",
       "      <td>[0, 0, 0, 0, 0, 0, 0, 0, 0, 0, 0, 0, 0, 0, 0, ...</td>\n",
       "      <td>[0.0, 0.0, 0.0, 0.0, 0.0, 0.0, 0.0, 0.0, 0.0, ...</td>\n",
       "    </tr>\n",
       "  </tbody>\n",
       "</table>\n",
       "<p>855 rows × 5 columns</p>\n",
       "</div>"
      ],
      "text/plain": [
       "                                                  Text  \\\n",
       "0    Yapay Zeka Nedir, Ne İşe Yarar?\\n\\nYapay zeka ...   \n",
       "1    🔎 Verilerinizi analiz edin: \\nChatGPT'yi kulla...   \n",
       "2    Öncelikle yapay zekanın ne olduğunu, #dijitala...   \n",
       "3    9. Baidu Research: Çin'in önde gelen arama mot...   \n",
       "4    4. Microsoft AI: Microsoft'un yapay zeka tekno...   \n",
       "..                                                 ...   \n",
       "850  doğal dil işleme alanında yüksek lisans-doktor...   \n",
       "851                           dogal dil isleme şeyleri   \n",
       "852  Bir veri madenciliği ve doğal dil işleme uygul...   \n",
       "853  \"Doğal dil işleme\" ile ilgili deneyimi olan ya...   \n",
       "854  Haftaya öğrencilik hayatıma kaldığım yerden de...   \n",
       "\n",
       "                                                Text_2  \\\n",
       "0    [yapay, zeka, nedir, işe, yarar, yapay, zeka, ...   \n",
       "1    [veri, analiz, edin, chatgptyi, kullanarak, do...   \n",
       "2    [öncelik, yapay, zeka, olduğunu, iç, önemli, o...   \n",
       "3    [baidu, research, çin, gele, ara, motor, baidu...   \n",
       "4    [microsoft, ai, microsoft, yapay, zeka, teknol...   \n",
       "..                                                 ...   \n",
       "850  [doğal, dil, işle, alan, yük, lisansdoktor, ya...   \n",
       "851                            [dogal, dil, isle, şey]   \n",
       "852     [ver, madencilik, doğal, dil, işle, uygulamas]   \n",
       "853  [doğal, dil, işleme, il, ilgil, deney, ola, ya...   \n",
       "854  [hafta, öğrencilik, hayat, kaldık, yer, deva, ...   \n",
       "\n",
       "                                                Text_3  \\\n",
       "0    yapay zeka nedir işe yarar yapay zeka yz bilgi...   \n",
       "1    veri analiz edin chatgptyi kullanarak doğal di...   \n",
       "2    öncelik yapay zeka olduğunu iç önemli olduk kı...   \n",
       "3    baidu research çin gele ara motor baidun araşt...   \n",
       "4    microsoft ai microsoft yapay zeka teknoloji od...   \n",
       "..                                                 ...   \n",
       "850  doğal dil işle alan yük lisansdoktor yapa danı...   \n",
       "851                                 dogal dil isle şey   \n",
       "852            ver madencilik doğal dil işle uygulamas   \n",
       "853  doğal dil işleme il ilgil deney ola yazılımcı ...   \n",
       "854  hafta öğrencilik hayat kaldık yer deva ediyoru...   \n",
       "\n",
       "                                                Text_4  \\\n",
       "0    [0, 0, 0, 0, 0, 0, 0, 0, 0, 0, 0, 0, 0, 0, 0, ...   \n",
       "1    [0, 0, 0, 0, 0, 0, 0, 0, 0, 0, 0, 0, 0, 0, 0, ...   \n",
       "2    [0, 0, 0, 0, 0, 0, 0, 0, 0, 0, 0, 0, 0, 0, 0, ...   \n",
       "3    [0, 0, 0, 0, 0, 0, 0, 0, 0, 0, 0, 0, 0, 0, 0, ...   \n",
       "4    [0, 0, 0, 0, 0, 0, 0, 0, 0, 0, 0, 0, 0, 0, 0, ...   \n",
       "..                                                 ...   \n",
       "850  [0, 0, 0, 0, 0, 0, 0, 0, 0, 0, 0, 0, 0, 0, 0, ...   \n",
       "851  [0, 0, 0, 0, 0, 0, 0, 0, 0, 0, 0, 0, 0, 0, 0, ...   \n",
       "852  [0, 0, 0, 0, 0, 0, 0, 0, 0, 0, 0, 0, 0, 0, 0, ...   \n",
       "853  [0, 0, 0, 0, 0, 0, 0, 0, 0, 0, 0, 0, 0, 0, 0, ...   \n",
       "854  [0, 0, 0, 0, 0, 0, 0, 0, 0, 0, 0, 0, 0, 0, 0, ...   \n",
       "\n",
       "                                                Text_5  \n",
       "0    [0.0, 0.0, 0.0, 0.0, 0.0, 0.0, 0.0, 0.0, 0.0, ...  \n",
       "1    [0.0, 0.0, 0.0, 0.0, 0.0, 0.0, 0.0, 0.0, 0.0, ...  \n",
       "2    [0.0, 0.0, 0.0, 0.0, 0.0, 0.0, 0.0, 0.0, 0.0, ...  \n",
       "3    [0.0, 0.0, 0.0, 0.0, 0.0, 0.0, 0.0, 0.0, 0.0, ...  \n",
       "4    [0.0, 0.0, 0.0, 0.0, 0.0, 0.0, 0.0, 0.0, 0.0, ...  \n",
       "..                                                 ...  \n",
       "850  [0.0, 0.0, 0.0, 0.0, 0.0, 0.0, 0.0, 0.0, 0.0, ...  \n",
       "851  [0.0, 0.0, 0.0, 0.0, 0.0, 0.0, 0.0, 0.0, 0.0, ...  \n",
       "852  [0.0, 0.0, 0.0, 0.0, 0.0, 0.0, 0.0, 0.0, 0.0, ...  \n",
       "853  [0.0, 0.0, 0.0, 0.0, 0.0, 0.0, 0.0, 0.0, 0.0, ...  \n",
       "854  [0.0, 0.0, 0.0, 0.0, 0.0, 0.0, 0.0, 0.0, 0.0, ...  \n",
       "\n",
       "[855 rows x 5 columns]"
      ]
     },
     "execution_count": 16,
     "metadata": {},
     "output_type": "execute_result"
    }
   ],
   "source": [
    "df[\"Text_5\"] = X.toarray().tolist() #tf-idf verilerini de tabloya ekledik\n",
    "df"
   ]
  },
  {
   "cell_type": "markdown",
   "id": "47bd8996-b4a7-44ba-a1a4-9abd40c383ac",
   "metadata": {},
   "source": [
    "# Word2vec"
   ]
  },
  {
   "cell_type": "code",
   "execution_count": 17,
   "id": "41bb45b6-2c96-4d37-92cf-1e6de4eacaa6",
   "metadata": {},
   "outputs": [],
   "source": [
    "#istediğimiz noyutta verilerle eğitebileceğimiz en yaygın kullanılan uygulama\n",
    "from gensim.models import Word2Vec #nlp kütüphanesi"
   ]
  },
  {
   "cell_type": "code",
   "execution_count": 18,
   "id": "4ff75e6e-5800-4a63-aa82-cb862cce54e5",
   "metadata": {},
   "outputs": [
    {
     "data": {
      "text/html": [
       "<div>\n",
       "<style scoped>\n",
       "    .dataframe tbody tr th:only-of-type {\n",
       "        vertical-align: middle;\n",
       "    }\n",
       "\n",
       "    .dataframe tbody tr th {\n",
       "        vertical-align: top;\n",
       "    }\n",
       "\n",
       "    .dataframe thead th {\n",
       "        text-align: right;\n",
       "    }\n",
       "</style>\n",
       "<table border=\"1\" class=\"dataframe\">\n",
       "  <thead>\n",
       "    <tr style=\"text-align: right;\">\n",
       "      <th></th>\n",
       "      <th>Text</th>\n",
       "      <th>Text_2</th>\n",
       "      <th>Text_3</th>\n",
       "      <th>Text_4</th>\n",
       "      <th>Text_5</th>\n",
       "    </tr>\n",
       "  </thead>\n",
       "  <tbody>\n",
       "    <tr>\n",
       "      <th>0</th>\n",
       "      <td>Yapay Zeka Nedir, Ne İşe Yarar?\\n\\nYapay zeka ...</td>\n",
       "      <td>[yapay, zeka, nedir, işe, yarar, yapay, zeka, ...</td>\n",
       "      <td>yapay zeka nedir işe yarar yapay zeka yz bilgi...</td>\n",
       "      <td>[0, 0, 0, 0, 0, 0, 0, 0, 0, 0, 0, 0, 0, 0, 0, ...</td>\n",
       "      <td>[0.0, 0.0, 0.0, 0.0, 0.0, 0.0, 0.0, 0.0, 0.0, ...</td>\n",
       "    </tr>\n",
       "    <tr>\n",
       "      <th>1</th>\n",
       "      <td>🔎 Verilerinizi analiz edin: \\nChatGPT'yi kulla...</td>\n",
       "      <td>[veri, analiz, edin, chatgptyi, kullanarak, do...</td>\n",
       "      <td>veri analiz edin chatgptyi kullanarak doğal di...</td>\n",
       "      <td>[0, 0, 0, 0, 0, 0, 0, 0, 0, 0, 0, 0, 0, 0, 0, ...</td>\n",
       "      <td>[0.0, 0.0, 0.0, 0.0, 0.0, 0.0, 0.0, 0.0, 0.0, ...</td>\n",
       "    </tr>\n",
       "    <tr>\n",
       "      <th>2</th>\n",
       "      <td>Öncelikle yapay zekanın ne olduğunu, #dijitala...</td>\n",
       "      <td>[öncelik, yapay, zeka, olduğunu, iç, önemli, o...</td>\n",
       "      <td>öncelik yapay zeka olduğunu iç önemli olduk kı...</td>\n",
       "      <td>[0, 0, 0, 0, 0, 0, 0, 0, 0, 0, 0, 0, 0, 0, 0, ...</td>\n",
       "      <td>[0.0, 0.0, 0.0, 0.0, 0.0, 0.0, 0.0, 0.0, 0.0, ...</td>\n",
       "    </tr>\n",
       "    <tr>\n",
       "      <th>3</th>\n",
       "      <td>9. Baidu Research: Çin'in önde gelen arama mot...</td>\n",
       "      <td>[baidu, research, çin, gele, ara, motor, baidu...</td>\n",
       "      <td>baidu research çin gele ara motor baidun araşt...</td>\n",
       "      <td>[0, 0, 0, 0, 0, 0, 0, 0, 0, 0, 0, 0, 0, 0, 0, ...</td>\n",
       "      <td>[0.0, 0.0, 0.0, 0.0, 0.0, 0.0, 0.0, 0.0, 0.0, ...</td>\n",
       "    </tr>\n",
       "    <tr>\n",
       "      <th>4</th>\n",
       "      <td>4. Microsoft AI: Microsoft'un yapay zeka tekno...</td>\n",
       "      <td>[microsoft, ai, microsoft, yapay, zeka, teknol...</td>\n",
       "      <td>microsoft ai microsoft yapay zeka teknoloji od...</td>\n",
       "      <td>[0, 0, 0, 0, 0, 0, 0, 0, 0, 0, 0, 0, 0, 0, 0, ...</td>\n",
       "      <td>[0.0, 0.0, 0.0, 0.0, 0.0, 0.0, 0.0, 0.0, 0.0, ...</td>\n",
       "    </tr>\n",
       "  </tbody>\n",
       "</table>\n",
       "</div>"
      ],
      "text/plain": [
       "                                                Text  \\\n",
       "0  Yapay Zeka Nedir, Ne İşe Yarar?\\n\\nYapay zeka ...   \n",
       "1  🔎 Verilerinizi analiz edin: \\nChatGPT'yi kulla...   \n",
       "2  Öncelikle yapay zekanın ne olduğunu, #dijitala...   \n",
       "3  9. Baidu Research: Çin'in önde gelen arama mot...   \n",
       "4  4. Microsoft AI: Microsoft'un yapay zeka tekno...   \n",
       "\n",
       "                                              Text_2  \\\n",
       "0  [yapay, zeka, nedir, işe, yarar, yapay, zeka, ...   \n",
       "1  [veri, analiz, edin, chatgptyi, kullanarak, do...   \n",
       "2  [öncelik, yapay, zeka, olduğunu, iç, önemli, o...   \n",
       "3  [baidu, research, çin, gele, ara, motor, baidu...   \n",
       "4  [microsoft, ai, microsoft, yapay, zeka, teknol...   \n",
       "\n",
       "                                              Text_3  \\\n",
       "0  yapay zeka nedir işe yarar yapay zeka yz bilgi...   \n",
       "1  veri analiz edin chatgptyi kullanarak doğal di...   \n",
       "2  öncelik yapay zeka olduğunu iç önemli olduk kı...   \n",
       "3  baidu research çin gele ara motor baidun araşt...   \n",
       "4  microsoft ai microsoft yapay zeka teknoloji od...   \n",
       "\n",
       "                                              Text_4  \\\n",
       "0  [0, 0, 0, 0, 0, 0, 0, 0, 0, 0, 0, 0, 0, 0, 0, ...   \n",
       "1  [0, 0, 0, 0, 0, 0, 0, 0, 0, 0, 0, 0, 0, 0, 0, ...   \n",
       "2  [0, 0, 0, 0, 0, 0, 0, 0, 0, 0, 0, 0, 0, 0, 0, ...   \n",
       "3  [0, 0, 0, 0, 0, 0, 0, 0, 0, 0, 0, 0, 0, 0, 0, ...   \n",
       "4  [0, 0, 0, 0, 0, 0, 0, 0, 0, 0, 0, 0, 0, 0, 0, ...   \n",
       "\n",
       "                                              Text_5  \n",
       "0  [0.0, 0.0, 0.0, 0.0, 0.0, 0.0, 0.0, 0.0, 0.0, ...  \n",
       "1  [0.0, 0.0, 0.0, 0.0, 0.0, 0.0, 0.0, 0.0, 0.0, ...  \n",
       "2  [0.0, 0.0, 0.0, 0.0, 0.0, 0.0, 0.0, 0.0, 0.0, ...  \n",
       "3  [0.0, 0.0, 0.0, 0.0, 0.0, 0.0, 0.0, 0.0, 0.0, ...  \n",
       "4  [0.0, 0.0, 0.0, 0.0, 0.0, 0.0, 0.0, 0.0, 0.0, ...  "
      ]
     },
     "execution_count": 18,
     "metadata": {},
     "output_type": "execute_result"
    }
   ],
   "source": [
    "df.head()"
   ]
  },
  {
   "cell_type": "code",
   "execution_count": 19,
   "id": "d2901d09-ba17-48f8-ac89-2aef1852b376",
   "metadata": {},
   "outputs": [],
   "source": [
    "model=Word2Vec(sentences=df[\"Text_2\"].tolist(),vector_size=100,window=5, min_count=1) \n",
    "model.save(\"word2vec.model\") #modelimizi daha sonra çağırabilmek için kaydettik"
   ]
  },
  {
   "cell_type": "code",
   "execution_count": 20,
   "id": "9c8fdfa8-7e73-42f6-aea4-b0a25cb29adb",
   "metadata": {},
   "outputs": [
    {
     "name": "stdout",
     "output_type": "stream",
     "text": [
      "Word2Vec<vocab=4784, vector_size=100, alpha=0.025>\n"
     ]
    }
   ],
   "source": [
    "print(model)"
   ]
  },
  {
   "cell_type": "code",
   "execution_count": 21,
   "id": "a91d3c89-fd39-4bc0-b6ec-2b207b0632da",
   "metadata": {},
   "outputs": [
    {
     "data": {
      "text/plain": [
       "['dil', 'doğal', 'işle', 'yapay', 'zeka', 'il']"
      ]
     },
     "execution_count": 21,
     "metadata": {},
     "output_type": "execute_result"
    }
   ],
   "source": [
    "words = list(model.wv.index_to_key)\n",
    "words[0:6]"
   ]
  },
  {
   "cell_type": "code",
   "execution_count": 22,
   "id": "d87bfd85-2514-4c6b-8721-be6670c973b0",
   "metadata": {},
   "outputs": [
    {
     "data": {
      "text/plain": [
       "4784"
      ]
     },
     "execution_count": 22,
     "metadata": {},
     "output_type": "execute_result"
    }
   ],
   "source": [
    "len(words)"
   ]
  },
  {
   "cell_type": "code",
   "execution_count": 23,
   "id": "33ae5876-d3b1-426b-9106-4ae77b3c9aa1",
   "metadata": {},
   "outputs": [
    {
     "data": {
      "text/plain": [
       "3"
      ]
     },
     "execution_count": 23,
     "metadata": {},
     "output_type": "execute_result"
    }
   ],
   "source": [
    "model.wv.key_to_index[\"yapay\"]"
   ]
  },
  {
   "cell_type": "code",
   "execution_count": 24,
   "id": "06e2e4c2-963a-42c9-8ce9-9d5f1ba6e889",
   "metadata": {},
   "outputs": [
    {
     "data": {
      "text/plain": [
       "array([-0.13684528,  0.12669618,  0.08253575, -0.02750504,  0.01805948,\n",
       "       -0.25558278,  0.05836866,  0.40815145, -0.1157819 , -0.11253181,\n",
       "       -0.0391963 , -0.26669738, -0.06064885,  0.13632329,  0.01950561,\n",
       "       -0.09431348,  0.02131607, -0.1804664 , -0.0167664 , -0.3461531 ,\n",
       "        0.05384614,  0.02396673,  0.13097858, -0.11683045, -0.06647056,\n",
       "        0.01067363, -0.16717297, -0.10232644, -0.20359275, -0.02375105,\n",
       "        0.17328799,  0.05361091,  0.05339251, -0.20918494, -0.02596878,\n",
       "        0.18390548,  0.02516223, -0.19156164, -0.12842262, -0.28914058,\n",
       "        0.04730719, -0.25176704, -0.07899868,  0.03679773,  0.09311876,\n",
       "       -0.08210533, -0.23665582, -0.05405568,  0.02946274,  0.06651965,\n",
       "        0.10081116, -0.1699705 , -0.09881078,  0.02846462, -0.13701758,\n",
       "        0.08821131,  0.13440025, -0.05630186, -0.1384246 ,  0.10492587,\n",
       "        0.07682379, -0.03170353, -0.04237488,  0.02829516, -0.18585914,\n",
       "        0.21453261,  0.04054975,  0.20126398, -0.16236064,  0.25516644,\n",
       "       -0.00730366,  0.15799958,  0.18007934,  0.02297248,  0.26626652,\n",
       "        0.08719415,  0.05629104, -0.01308191, -0.15526994,  0.10756507,\n",
       "       -0.13169685, -0.04820849, -0.07354555,  0.25179547, -0.07596707,\n",
       "       -0.00399102,  0.04797276,  0.08522943,  0.16926822,  0.00822062,\n",
       "        0.2547102 ,  0.09977783,  0.05658222,  0.03273785,  0.3226657 ,\n",
       "        0.10703101,  0.09515236, -0.17349306,  0.00598363, -0.03237389],\n",
       "      dtype=float32)"
      ]
     },
     "execution_count": 24,
     "metadata": {},
     "output_type": "execute_result"
    }
   ],
   "source": [
    "model.wv[3] #index numarasıyla"
   ]
  },
  {
   "cell_type": "code",
   "execution_count": 25,
   "id": "b9436242-6cf6-4800-9ccb-313c5ccb1ffc",
   "metadata": {},
   "outputs": [
    {
     "data": {
      "text/plain": [
       "array([-0.13684528,  0.12669618,  0.08253575, -0.02750504,  0.01805948,\n",
       "       -0.25558278,  0.05836866,  0.40815145, -0.1157819 , -0.11253181,\n",
       "       -0.0391963 , -0.26669738, -0.06064885,  0.13632329,  0.01950561,\n",
       "       -0.09431348,  0.02131607, -0.1804664 , -0.0167664 , -0.3461531 ,\n",
       "        0.05384614,  0.02396673,  0.13097858, -0.11683045, -0.06647056,\n",
       "        0.01067363, -0.16717297, -0.10232644, -0.20359275, -0.02375105,\n",
       "        0.17328799,  0.05361091,  0.05339251, -0.20918494, -0.02596878,\n",
       "        0.18390548,  0.02516223, -0.19156164, -0.12842262, -0.28914058,\n",
       "        0.04730719, -0.25176704, -0.07899868,  0.03679773,  0.09311876,\n",
       "       -0.08210533, -0.23665582, -0.05405568,  0.02946274,  0.06651965,\n",
       "        0.10081116, -0.1699705 , -0.09881078,  0.02846462, -0.13701758,\n",
       "        0.08821131,  0.13440025, -0.05630186, -0.1384246 ,  0.10492587,\n",
       "        0.07682379, -0.03170353, -0.04237488,  0.02829516, -0.18585914,\n",
       "        0.21453261,  0.04054975,  0.20126398, -0.16236064,  0.25516644,\n",
       "       -0.00730366,  0.15799958,  0.18007934,  0.02297248,  0.26626652,\n",
       "        0.08719415,  0.05629104, -0.01308191, -0.15526994,  0.10756507,\n",
       "       -0.13169685, -0.04820849, -0.07354555,  0.25179547, -0.07596707,\n",
       "       -0.00399102,  0.04797276,  0.08522943,  0.16926822,  0.00822062,\n",
       "        0.2547102 ,  0.09977783,  0.05658222,  0.03273785,  0.3226657 ,\n",
       "        0.10703101,  0.09515236, -0.17349306,  0.00598363, -0.03237389],\n",
       "      dtype=float32)"
      ]
     },
     "execution_count": 25,
     "metadata": {},
     "output_type": "execute_result"
    }
   ],
   "source": [
    "model.wv.get_vector(\"yapay\") #kelime bazında"
   ]
  },
  {
   "cell_type": "code",
   "execution_count": 26,
   "id": "d2f92032-6263-4291-b223-518c1215b189",
   "metadata": {},
   "outputs": [],
   "source": [
    "def word2vec(value):\n",
    "    model = Word2Vec.load(\"word2vec.model\")\n",
    "    bfr_list = []\n",
    "    bfr_len = len(value)\n",
    "    \n",
    "    for k in value:\n",
    "        bfr = model.wv.key_to_index[k]\n",
    "        bfr = model.wv[bfr]\n",
    "        bfr_list.append(bfr)\n",
    "        \n",
    "    bfr_list=sum(bfr_list)\n",
    "    bfr_list=bfr_list/bfr_len\n",
    "    return bfr_list.tolist()"
   ]
  },
  {
   "cell_type": "code",
   "execution_count": 27,
   "id": "11b6397f-a842-4e6b-b5f4-4c33342f017c",
   "metadata": {},
   "outputs": [
    {
     "data": {
      "text/html": [
       "<div>\n",
       "<style scoped>\n",
       "    .dataframe tbody tr th:only-of-type {\n",
       "        vertical-align: middle;\n",
       "    }\n",
       "\n",
       "    .dataframe tbody tr th {\n",
       "        vertical-align: top;\n",
       "    }\n",
       "\n",
       "    .dataframe thead th {\n",
       "        text-align: right;\n",
       "    }\n",
       "</style>\n",
       "<table border=\"1\" class=\"dataframe\">\n",
       "  <thead>\n",
       "    <tr style=\"text-align: right;\">\n",
       "      <th></th>\n",
       "      <th>Text</th>\n",
       "      <th>Text_2</th>\n",
       "      <th>Text_3</th>\n",
       "      <th>Text_4</th>\n",
       "      <th>Text_5</th>\n",
       "    </tr>\n",
       "  </thead>\n",
       "  <tbody>\n",
       "    <tr>\n",
       "      <th>0</th>\n",
       "      <td>Yapay Zeka Nedir, Ne İşe Yarar?\\n\\nYapay zeka ...</td>\n",
       "      <td>[yapay, zeka, nedir, işe, yarar, yapay, zeka, ...</td>\n",
       "      <td>yapay zeka nedir işe yarar yapay zeka yz bilgi...</td>\n",
       "      <td>[0, 0, 0, 0, 0, 0, 0, 0, 0, 0, 0, 0, 0, 0, 0, ...</td>\n",
       "      <td>[0.0, 0.0, 0.0, 0.0, 0.0, 0.0, 0.0, 0.0, 0.0, ...</td>\n",
       "    </tr>\n",
       "    <tr>\n",
       "      <th>1</th>\n",
       "      <td>🔎 Verilerinizi analiz edin: \\nChatGPT'yi kulla...</td>\n",
       "      <td>[veri, analiz, edin, chatgptyi, kullanarak, do...</td>\n",
       "      <td>veri analiz edin chatgptyi kullanarak doğal di...</td>\n",
       "      <td>[0, 0, 0, 0, 0, 0, 0, 0, 0, 0, 0, 0, 0, 0, 0, ...</td>\n",
       "      <td>[0.0, 0.0, 0.0, 0.0, 0.0, 0.0, 0.0, 0.0, 0.0, ...</td>\n",
       "    </tr>\n",
       "    <tr>\n",
       "      <th>2</th>\n",
       "      <td>Öncelikle yapay zekanın ne olduğunu, #dijitala...</td>\n",
       "      <td>[öncelik, yapay, zeka, olduğunu, iç, önemli, o...</td>\n",
       "      <td>öncelik yapay zeka olduğunu iç önemli olduk kı...</td>\n",
       "      <td>[0, 0, 0, 0, 0, 0, 0, 0, 0, 0, 0, 0, 0, 0, 0, ...</td>\n",
       "      <td>[0.0, 0.0, 0.0, 0.0, 0.0, 0.0, 0.0, 0.0, 0.0, ...</td>\n",
       "    </tr>\n",
       "    <tr>\n",
       "      <th>3</th>\n",
       "      <td>9. Baidu Research: Çin'in önde gelen arama mot...</td>\n",
       "      <td>[baidu, research, çin, gele, ara, motor, baidu...</td>\n",
       "      <td>baidu research çin gele ara motor baidun araşt...</td>\n",
       "      <td>[0, 0, 0, 0, 0, 0, 0, 0, 0, 0, 0, 0, 0, 0, 0, ...</td>\n",
       "      <td>[0.0, 0.0, 0.0, 0.0, 0.0, 0.0, 0.0, 0.0, 0.0, ...</td>\n",
       "    </tr>\n",
       "    <tr>\n",
       "      <th>4</th>\n",
       "      <td>4. Microsoft AI: Microsoft'un yapay zeka tekno...</td>\n",
       "      <td>[microsoft, ai, microsoft, yapay, zeka, teknol...</td>\n",
       "      <td>microsoft ai microsoft yapay zeka teknoloji od...</td>\n",
       "      <td>[0, 0, 0, 0, 0, 0, 0, 0, 0, 0, 0, 0, 0, 0, 0, ...</td>\n",
       "      <td>[0.0, 0.0, 0.0, 0.0, 0.0, 0.0, 0.0, 0.0, 0.0, ...</td>\n",
       "    </tr>\n",
       "  </tbody>\n",
       "</table>\n",
       "</div>"
      ],
      "text/plain": [
       "                                                Text  \\\n",
       "0  Yapay Zeka Nedir, Ne İşe Yarar?\\n\\nYapay zeka ...   \n",
       "1  🔎 Verilerinizi analiz edin: \\nChatGPT'yi kulla...   \n",
       "2  Öncelikle yapay zekanın ne olduğunu, #dijitala...   \n",
       "3  9. Baidu Research: Çin'in önde gelen arama mot...   \n",
       "4  4. Microsoft AI: Microsoft'un yapay zeka tekno...   \n",
       "\n",
       "                                              Text_2  \\\n",
       "0  [yapay, zeka, nedir, işe, yarar, yapay, zeka, ...   \n",
       "1  [veri, analiz, edin, chatgptyi, kullanarak, do...   \n",
       "2  [öncelik, yapay, zeka, olduğunu, iç, önemli, o...   \n",
       "3  [baidu, research, çin, gele, ara, motor, baidu...   \n",
       "4  [microsoft, ai, microsoft, yapay, zeka, teknol...   \n",
       "\n",
       "                                              Text_3  \\\n",
       "0  yapay zeka nedir işe yarar yapay zeka yz bilgi...   \n",
       "1  veri analiz edin chatgptyi kullanarak doğal di...   \n",
       "2  öncelik yapay zeka olduğunu iç önemli olduk kı...   \n",
       "3  baidu research çin gele ara motor baidun araşt...   \n",
       "4  microsoft ai microsoft yapay zeka teknoloji od...   \n",
       "\n",
       "                                              Text_4  \\\n",
       "0  [0, 0, 0, 0, 0, 0, 0, 0, 0, 0, 0, 0, 0, 0, 0, ...   \n",
       "1  [0, 0, 0, 0, 0, 0, 0, 0, 0, 0, 0, 0, 0, 0, 0, ...   \n",
       "2  [0, 0, 0, 0, 0, 0, 0, 0, 0, 0, 0, 0, 0, 0, 0, ...   \n",
       "3  [0, 0, 0, 0, 0, 0, 0, 0, 0, 0, 0, 0, 0, 0, 0, ...   \n",
       "4  [0, 0, 0, 0, 0, 0, 0, 0, 0, 0, 0, 0, 0, 0, 0, ...   \n",
       "\n",
       "                                              Text_5  \n",
       "0  [0.0, 0.0, 0.0, 0.0, 0.0, 0.0, 0.0, 0.0, 0.0, ...  \n",
       "1  [0.0, 0.0, 0.0, 0.0, 0.0, 0.0, 0.0, 0.0, 0.0, ...  \n",
       "2  [0.0, 0.0, 0.0, 0.0, 0.0, 0.0, 0.0, 0.0, 0.0, ...  \n",
       "3  [0.0, 0.0, 0.0, 0.0, 0.0, 0.0, 0.0, 0.0, 0.0, ...  \n",
       "4  [0.0, 0.0, 0.0, 0.0, 0.0, 0.0, 0.0, 0.0, 0.0, ...  "
      ]
     },
     "execution_count": 27,
     "metadata": {},
     "output_type": "execute_result"
    }
   ],
   "source": [
    "df.head()"
   ]
  },
  {
   "cell_type": "code",
   "execution_count": 11,
   "id": "df00e367-f2b1-4e98-b187-dd8a8d1575ca",
   "metadata": {},
   "outputs": [],
   "source": [
    "#df[\"Text_6\"] = df[\"Text_2\"].apply(word2vec)"
   ]
  },
  {
   "cell_type": "code",
   "execution_count": 9,
   "id": "9d2fdde0-2efc-49ac-89bf-aaee03e6ec91",
   "metadata": {},
   "outputs": [],
   "source": [
    "df[\"bow\"]= on_islem.bag_of_words(df[\"Text_3\"])\n",
    "df[\"tfidf\"]= on_islem.tfidf(df[\"Text_3\"])\n",
    "df[\"word2vec\"]= df[\"Text_2\"].apply(on_islem.word2vec)"
   ]
  },
  {
   "cell_type": "code",
   "execution_count": 10,
   "id": "276b3896-eb5c-4d39-ae6f-851a5be69546",
   "metadata": {},
   "outputs": [
    {
     "data": {
      "text/html": [
       "<div>\n",
       "<style scoped>\n",
       "    .dataframe tbody tr th:only-of-type {\n",
       "        vertical-align: middle;\n",
       "    }\n",
       "\n",
       "    .dataframe tbody tr th {\n",
       "        vertical-align: top;\n",
       "    }\n",
       "\n",
       "    .dataframe thead th {\n",
       "        text-align: right;\n",
       "    }\n",
       "</style>\n",
       "<table border=\"1\" class=\"dataframe\">\n",
       "  <thead>\n",
       "    <tr style=\"text-align: right;\">\n",
       "      <th></th>\n",
       "      <th>Text</th>\n",
       "      <th>Text_2</th>\n",
       "      <th>Text_3</th>\n",
       "      <th>bow</th>\n",
       "      <th>tfidf</th>\n",
       "      <th>word2vec</th>\n",
       "    </tr>\n",
       "  </thead>\n",
       "  <tbody>\n",
       "    <tr>\n",
       "      <th>0</th>\n",
       "      <td>Yapay Zeka Nedir, Ne İşe Yarar?\\n\\nYapay zeka ...</td>\n",
       "      <td>[yapay, zeka, nedir, işe, yarar, yapay, zeka, ...</td>\n",
       "      <td>yapay zeka nedir işe yarar yapay zeka yz bilgi...</td>\n",
       "      <td>[0, 0, 0, 0, 0, 0, 0, 0, 0, 0, 0, 0, 0, 0, 0, ...</td>\n",
       "      <td>[0.0, 0.0, 0.0, 0.0, 0.0, 0.0, 0.0, 0.0, 0.0, ...</td>\n",
       "      <td>[-0.0591902956366539, 0.049831610172986984, 0....</td>\n",
       "    </tr>\n",
       "    <tr>\n",
       "      <th>1</th>\n",
       "      <td>🔎 Verilerinizi analiz edin: \\nChatGPT'yi kulla...</td>\n",
       "      <td>[veri, analiz, edin, chatgptyi, kullanarak, do...</td>\n",
       "      <td>veri analiz edin chatgptyi kullanarak doğal di...</td>\n",
       "      <td>[0, 0, 0, 0, 0, 0, 0, 0, 0, 0, 0, 0, 0, 0, 0, ...</td>\n",
       "      <td>[0.0, 0.0, 0.0, 0.0, 0.0, 0.0, 0.0, 0.0, 0.0, ...</td>\n",
       "      <td>[-0.043300941586494446, 0.0392715185880661, 0....</td>\n",
       "    </tr>\n",
       "    <tr>\n",
       "      <th>2</th>\n",
       "      <td>Öncelikle yapay zekanın ne olduğunu, #dijitala...</td>\n",
       "      <td>[öncelik, yapay, zeka, olduğunu, iç, önemli, o...</td>\n",
       "      <td>öncelik yapay zeka olduğunu iç önemli olduk kı...</td>\n",
       "      <td>[0, 0, 0, 0, 0, 0, 0, 0, 0, 0, 0, 0, 0, 0, 0, ...</td>\n",
       "      <td>[0.0, 0.0, 0.0, 0.0, 0.0, 0.0, 0.0, 0.0, 0.0, ...</td>\n",
       "      <td>[-0.05647122859954834, 0.04835698753595352, 0....</td>\n",
       "    </tr>\n",
       "    <tr>\n",
       "      <th>3</th>\n",
       "      <td>9. Baidu Research: Çin'in önde gelen arama mot...</td>\n",
       "      <td>[baidu, research, çin, gele, ara, motor, baidu...</td>\n",
       "      <td>baidu research çin gele ara motor baidun araşt...</td>\n",
       "      <td>[0, 0, 0, 0, 0, 0, 0, 0, 0, 0, 0, 0, 0, 0, 0, ...</td>\n",
       "      <td>[0.0, 0.0, 0.0, 0.0, 0.0, 0.0, 0.0, 0.0, 0.0, ...</td>\n",
       "      <td>[-0.049477022141218185, 0.04329916089773178, 0...</td>\n",
       "    </tr>\n",
       "    <tr>\n",
       "      <th>4</th>\n",
       "      <td>4. Microsoft AI: Microsoft'un yapay zeka tekno...</td>\n",
       "      <td>[microsoft, ai, microsoft, yapay, zeka, teknol...</td>\n",
       "      <td>microsoft ai microsoft yapay zeka teknoloji od...</td>\n",
       "      <td>[0, 0, 0, 0, 0, 0, 0, 0, 0, 0, 0, 0, 0, 0, 0, ...</td>\n",
       "      <td>[0.0, 0.0, 0.0, 0.0, 0.0, 0.0, 0.0, 0.0, 0.0, ...</td>\n",
       "      <td>[-0.06906231492757797, 0.06224812939763069, 0....</td>\n",
       "    </tr>\n",
       "  </tbody>\n",
       "</table>\n",
       "</div>"
      ],
      "text/plain": [
       "                                                Text  \\\n",
       "0  Yapay Zeka Nedir, Ne İşe Yarar?\\n\\nYapay zeka ...   \n",
       "1  🔎 Verilerinizi analiz edin: \\nChatGPT'yi kulla...   \n",
       "2  Öncelikle yapay zekanın ne olduğunu, #dijitala...   \n",
       "3  9. Baidu Research: Çin'in önde gelen arama mot...   \n",
       "4  4. Microsoft AI: Microsoft'un yapay zeka tekno...   \n",
       "\n",
       "                                              Text_2  \\\n",
       "0  [yapay, zeka, nedir, işe, yarar, yapay, zeka, ...   \n",
       "1  [veri, analiz, edin, chatgptyi, kullanarak, do...   \n",
       "2  [öncelik, yapay, zeka, olduğunu, iç, önemli, o...   \n",
       "3  [baidu, research, çin, gele, ara, motor, baidu...   \n",
       "4  [microsoft, ai, microsoft, yapay, zeka, teknol...   \n",
       "\n",
       "                                              Text_3  \\\n",
       "0  yapay zeka nedir işe yarar yapay zeka yz bilgi...   \n",
       "1  veri analiz edin chatgptyi kullanarak doğal di...   \n",
       "2  öncelik yapay zeka olduğunu iç önemli olduk kı...   \n",
       "3  baidu research çin gele ara motor baidun araşt...   \n",
       "4  microsoft ai microsoft yapay zeka teknoloji od...   \n",
       "\n",
       "                                                 bow  \\\n",
       "0  [0, 0, 0, 0, 0, 0, 0, 0, 0, 0, 0, 0, 0, 0, 0, ...   \n",
       "1  [0, 0, 0, 0, 0, 0, 0, 0, 0, 0, 0, 0, 0, 0, 0, ...   \n",
       "2  [0, 0, 0, 0, 0, 0, 0, 0, 0, 0, 0, 0, 0, 0, 0, ...   \n",
       "3  [0, 0, 0, 0, 0, 0, 0, 0, 0, 0, 0, 0, 0, 0, 0, ...   \n",
       "4  [0, 0, 0, 0, 0, 0, 0, 0, 0, 0, 0, 0, 0, 0, 0, ...   \n",
       "\n",
       "                                               tfidf  \\\n",
       "0  [0.0, 0.0, 0.0, 0.0, 0.0, 0.0, 0.0, 0.0, 0.0, ...   \n",
       "1  [0.0, 0.0, 0.0, 0.0, 0.0, 0.0, 0.0, 0.0, 0.0, ...   \n",
       "2  [0.0, 0.0, 0.0, 0.0, 0.0, 0.0, 0.0, 0.0, 0.0, ...   \n",
       "3  [0.0, 0.0, 0.0, 0.0, 0.0, 0.0, 0.0, 0.0, 0.0, ...   \n",
       "4  [0.0, 0.0, 0.0, 0.0, 0.0, 0.0, 0.0, 0.0, 0.0, ...   \n",
       "\n",
       "                                            word2vec  \n",
       "0  [-0.0591902956366539, 0.049831610172986984, 0....  \n",
       "1  [-0.043300941586494446, 0.0392715185880661, 0....  \n",
       "2  [-0.05647122859954834, 0.04835698753595352, 0....  \n",
       "3  [-0.049477022141218185, 0.04329916089773178, 0...  \n",
       "4  [-0.06906231492757797, 0.06224812939763069, 0....  "
      ]
     },
     "execution_count": 10,
     "metadata": {},
     "output_type": "execute_result"
    }
   ],
   "source": [
    "df.head()"
   ]
  },
  {
   "cell_type": "code",
   "execution_count": null,
   "id": "37f3e08c-8d7a-4cc9-b06e-5099dabf27a1",
   "metadata": {},
   "outputs": [],
   "source": []
  }
 ],
 "metadata": {
  "kernelspec": {
   "display_name": "Python 3 (ipykernel)",
   "language": "python",
   "name": "python3"
  },
  "language_info": {
   "codemirror_mode": {
    "name": "ipython",
    "version": 3
   },
   "file_extension": ".py",
   "mimetype": "text/x-python",
   "name": "python",
   "nbconvert_exporter": "python",
   "pygments_lexer": "ipython3",
   "version": "3.9.13"
  }
 },
 "nbformat": 4,
 "nbformat_minor": 5
}
